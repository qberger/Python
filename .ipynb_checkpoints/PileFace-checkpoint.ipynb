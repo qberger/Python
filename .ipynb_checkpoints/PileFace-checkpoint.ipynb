{
 "cells": [
  {
   "cell_type": "code",
   "execution_count": 3,
   "metadata": {},
   "outputs": [],
   "source": [
    "from ipywidgets import *\n",
    "import numpy.random as rd\n",
    "from math import *\n",
    "import matplotlib.pyplot as plt"
   ]
  },
  {
   "cell_type": "markdown",
   "metadata": {},
   "source": [
    "# Pile ou Face"
   ]
  },
  {
   "cell_type": "markdown",
   "metadata": {},
   "source": [
    "On va écrire un programme qui affiche un nombre $n$ de Pile ou Face"
   ]
  },
  {
   "cell_type": "code",
   "execution_count": 6,
   "metadata": {},
   "outputs": [],
   "source": [
    "def PileFace(n):\n",
    "    L=[]\n",
    "    for i in range(n):\n",
    "        if rd.random()<0.5:\n",
    "            L.append('P')\n",
    "        else:\n",
    "            L.append('F')\n",
    "    return L"
   ]
  },
  {
   "cell_type": "code",
   "execution_count": 7,
   "metadata": {},
   "outputs": [
    {
     "name": "stdout",
     "output_type": "stream",
     "text": [
      "P P P P P P F P F F F P P P P F F F P F P F P F F F F F F F P F P P F P P P F F P F F P P P F F P F F P F F P F F P P P F F P F F P P F P P F P P F P F P P F P F P F F P F P P F F P P P F F P F F P P "
     ]
    }
   ],
   "source": [
    "n=100\n",
    "Suite=PileFace(n)\n",
    "for x in Suite:\n",
    "    print(x, end=\" \")"
   ]
  },
  {
   "cell_type": "markdown",
   "metadata": {},
   "source": [
    "## Longue suite de résultats égaux consécutifs"
   ]
  },
  {
   "cell_type": "code",
   "execution_count": 3,
   "metadata": {},
   "outputs": [],
   "source": [
    "def Bern():\n",
    "    if rd.random()<0.5:\n",
    "        return 1\n",
    "    else:\n",
    "        return 0"
   ]
  },
  {
   "cell_type": "code",
   "execution_count": 4,
   "metadata": {},
   "outputs": [],
   "source": [
    "def Longueur(n):\n",
    "    x=Bern()\n",
    "    l=1\n",
    "    rec=1\n",
    "    for i in range(n-1):\n",
    "        y=Bern()\n",
    "        if y==x:\n",
    "            l=l+1\n",
    "        else:\n",
    "            l=1\n",
    "        x=y\n",
    "        if l>rec:\n",
    "            rec=l\n",
    "    return rec"
   ]
  },
  {
   "cell_type": "code",
   "execution_count": 21,
   "metadata": {},
   "outputs": [],
   "source": [
    "k=10000\n",
    "l=15\n",
    "Proba=[0 for i in range(l)]\n",
    "n=100\n",
    "for i in range(k):\n",
    "    j=Longueur(n)\n",
    "    if j<l+1:\n",
    "        Proba[j-1] +=1/k"
   ]
  },
  {
   "cell_type": "code",
   "execution_count": 24,
   "metadata": {},
   "outputs": [
    {
     "data": {
      "image/png": "[encoded data removed]",
      "text/plain": [
       "<Figure size 432x288 with 1 Axes>"
      ]
     },
     "metadata": {
      "needs_background": "light"
     },
     "output_type": "display_data"
    }
   ],
   "source": [
    "for i in range(l):\n",
    "    plt.plot([i+1,i+1],[0,Proba[i]],color='blue')\n",
    "    plt.plot(i+1,Proba[i],'o',color='red')\n",
    "plt.show()"
   ]
  },
  {
   "cell_type": "code",
   "execution_count": 26,
   "metadata": {},
   "outputs": [
    {
     "data": {
      "application/vnd.jupyter.widget-view+json": {
       "model_id": "0da8630239c5401686fd83948a288d53",
       "version_major": 2,
       "version_minor": 0
      },
      "text/plain": [
       "interactive(children=(IntSlider(value=7, description='k', max=15), Output()), _dom_classes=('widget-interact',…"
      ]
     },
     "metadata": {},
     "output_type": "display_data"
    },
    {
     "data": {
      "text/plain": [
       "<function __main__.Superieur(k)>"
      ]
     },
     "execution_count": 26,
     "metadata": {},
     "output_type": "execute_result"
    }
   ],
   "source": [
    "def Superieur(k):\n",
    "    return 1-sum(Proba[:k])\n",
    "interact(Superieur,k=(0,l,1))"
   ]
  },
  {
   "cell_type": "code",
   "execution_count": null,
   "metadata": {},
   "outputs": [],
   "source": []
  }
 ],
 "metadata": {
  "kernelspec": {
   "display_name": "Python 3",
   "language": "python",
   "name": "python3"
  },
  "language_info": {
   "codemirror_mode": {
    "name": "ipython",
    "version": 3
   },
   "file_extension": ".py",
   "mimetype": "text/x-python",
   "name": "python",
   "nbconvert_exporter": "python",
   "pygments_lexer": "ipython3",
   "version": "3.7.6"
  }
 },
 "nbformat": 4,
 "nbformat_minor": 2
}

{
 "cells": [
  {
   "cell_type": "code",
   "execution_count": 1,
   "metadata": {},
   "outputs": [],
   "source": [
    "import numpy.random as rd\n",
    "from math import *\n",
    "import matplotlib.pyplot as plt\n",
    "import ipywidgets as widgets"
   ]
  },
  {
   "cell_type": "markdown",
   "metadata": {},
   "source": [
    "# Suites de Pile ou Face\n",
    "\n",
    "On va considérer ici une propriété particulière des suites de Pile ou Face, qui pourra paraître contre-intuitive. La question est la suivante: si l'on effectue 100 Pile ou Face, est-il plus \"normal\" (c'est-à-dire probable) d'obtenir à un moment au moins $8$ Pile ou $8$ Face consécutifs ou de n'obtenir au maximum \"que\" 5 Pile ou 5 Face consécutifs?"
   ]
  },
  {
   "cell_type": "markdown",
   "metadata": {},
   "source": [
    "Commençons par écrire un programme qui affiche un nombre $n$ Pile ou Face. On rappelle que random( ) génère une variable aléatoire de loi $\\mathcal{U}(0,1)$: avoir random( )<0.5 constitue donc un succès, que l'on interprète comme le fait d'obtenir un Pile."
   ]
  },
  {
   "cell_type": "code",
   "execution_count": 2,
   "metadata": {},
   "outputs": [
    {
     "name": "stdout",
     "output_type": "stream",
     "text": [
      "P P F F F P F F P P P F P F F F P P F P F P P F P F F F P F P F F P F P P P P P P F P P F F F F F F F F P P P F P P F F F P P P P P P P F P P F P P F P F P F P F F F P F F P F P P F P P F F P P P F P F P F P F P F P F P F F F F F F F P F F F F P P P F P P F F P F P F F F F P F P F P P F F F P P F F F P F F P P P F P F P F F P F F P F P P F F F F F P P P F F F F P F P F P F F P P P F F P F P F F P "
     ]
    }
   ],
   "source": [
    "n=200\n",
    "for i in range(n):\n",
    "    if rd.random()<0.5:\n",
    "        print('P', end=\" \")\n",
    "    else:\n",
    "        print('F',end=\" \")"
   ]
  },
  {
   "cell_type": "markdown",
   "metadata": {},
   "source": [
    "## Longue suite de résultats égaux consécutifs\n",
    "\n",
    "Passons dans le vif du sujet. Commençons par écrire un progamme qui crée la liste de tous les résultats de Pile ou Face jusqu'à $n$ lancers."
   ]
  },
  {
   "cell_type": "code",
   "execution_count": 3,
   "metadata": {},
   "outputs": [],
   "source": [
    "def PileFace(n):\n",
    "    L=[]\n",
    "    for i in range(n):\n",
    "        if rd.random()<0.5:\n",
    "            L.append('P')\n",
    "        else:\n",
    "            L.append('F')\n",
    "    return L"
   ]
  },
  {
   "cell_type": "code",
   "execution_count": 4,
   "metadata": {},
   "outputs": [
    {
     "name": "stdout",
     "output_type": "stream",
     "text": [
      "['P', 'P', 'F', 'P', 'F', 'P', 'F', 'F', 'F', 'F', 'F', 'F', 'F', 'P', 'P', 'P', 'P', 'P', 'F', 'F', 'P', 'P', 'P', 'F', 'P', 'F', 'P', 'P', 'P', 'P', 'P', 'P', 'P', 'F', 'F', 'P', 'P', 'F', 'P', 'P', 'P', 'P', 'F', 'F', 'P', 'F', 'F', 'F', 'F', 'P', 'F', 'F', 'F', 'F', 'F', 'F', 'F', 'P', 'P', 'F', 'F', 'F', 'F', 'F', 'P', 'P', 'P', 'P', 'P', 'P', 'P', 'F', 'P', 'P', 'P', 'P', 'P', 'P', 'P', 'P', 'F', 'P', 'P', 'F', 'P', 'F', 'P', 'P', 'P', 'P', 'F', 'F', 'F', 'P', 'P', 'F', 'P', 'P', 'P', 'P']\n"
     ]
    }
   ],
   "source": [
    "print(PileFace(100))"
   ]
  },
  {
   "cell_type": "markdown",
   "metadata": {},
   "source": [
    "La partie difficile consiste alors à écrire un programme qui identifie la longueur maximale (le record) de Pile ou de Face consécutifs dans une suite de Pile ou Face donnée. \n",
    "Le principe est de parcourir la liste, en mettant à jour plusieurs variables au fur et à mesure (la longueur du 'record en cours', la valeur du record absolu, l'élément de la liste auquel comparer le suivant)."
   ]
  },
  {
   "cell_type": "code",
   "execution_count": 5,
   "metadata": {},
   "outputs": [],
   "source": [
    "def Record(Liste):\n",
    "    l=1          ### l est la longueur du 'record en cours' (le nombre de résultats consécutifs en cours)\n",
    "    debut=0      ### on garde en mémoire l'endroit ou commence le record\n",
    "    rec=1        ### rec est la valeur du record absolu jusqu'à l'endroit où l'on est dans la liste\n",
    "    x=Liste[0]   ### x est la valeur de l'élément de la liste à l'endroit où l'on est dans la liste \n",
    "    for i in range(1,len(Liste)):\n",
    "        y=Liste[i]\n",
    "        if y==x:    ## si l'élément est égal au précédent, on augmente la longueur du 'record en cours'\n",
    "            l=l+1\n",
    "        else:\n",
    "            l=1\n",
    "        if l>rec:   ## si la longueur du 'record en cours' est plus grande que le record absolu\n",
    "            rec=l   ## on met à jour le record\n",
    "            debut=i-rec+1\n",
    "        x=y\n",
    "    return debut,rec  ## la position initiale du record permettra de l'afficher dans la liste, voir plus bas"
   ]
  },
  {
   "cell_type": "markdown",
   "metadata": {},
   "source": [
    "Voilà un programme qui renvoie le nombre maximal de Pile ou de Face consécutifs dans 10 suites de $n=100$ Pile ou Face.\n",
    "Vous pouvez changez la valeur de $n$, et vous pouvez exécuter plusieurs fois la cellule pour obtenir des suites de Pile ou Face différentes."
   ]
  },
  {
   "cell_type": "code",
   "execution_count": 6,
   "metadata": {},
   "outputs": [
    {
     "name": "stdout",
     "output_type": "stream",
     "text": [
      "Il y a 5 résultats égaux consécutifs (n=100)\n",
      "Il y a 8 résultats égaux consécutifs (n=100)\n",
      "Il y a 8 résultats égaux consécutifs (n=100)\n",
      "Il y a 8 résultats égaux consécutifs (n=100)\n",
      "Il y a 7 résultats égaux consécutifs (n=100)\n",
      "Il y a 7 résultats égaux consécutifs (n=100)\n",
      "Il y a 9 résultats égaux consécutifs (n=100)\n",
      "Il y a 7 résultats égaux consécutifs (n=100)\n",
      "Il y a 12 résultats égaux consécutifs (n=100)\n",
      "Il y a 15 résultats égaux consécutifs (n=100)\n"
     ]
    }
   ],
   "source": [
    "n=100\n",
    "for i in range(10):\n",
    "    Liste=PileFace(n)\n",
    "    print(\"Il y a eu {} résultats égaux consécutifs (n={})\".format(Record(Liste)[1],n))"
   ]
  },
  {
   "cell_type": "markdown",
   "metadata": {},
   "source": [
    "Le programme suivant permet de visualiser la suite de Pile ou Face et le 'record' de résultats égaux consécutifs.\n",
    "Vous pouvez exécuter de nouveau la cellule pour obtenir une suite de Pile ou Face différente."
   ]
  },
  {
   "cell_type": "code",
   "execution_count": 7,
   "metadata": {},
   "outputs": [
    {
     "data": {
      "application/vnd.jupyter.widget-view+json": {
       "model_id": "b0ef0e9fb2bb4ba4a08a1f737af2b4ab",
       "version_major": 2,
       "version_minor": 0
      },
      "text/plain": [
       "interactive(children=(IntSlider(value=100, description='n', max=1000, min=10), Output()), _dom_classes=('widge…"
      ]
     },
     "metadata": {},
     "output_type": "display_data"
    },
    {
     "data": {
      "text/plain": [
       "<function __main__.AfficheListe(n)>"
      ]
     },
     "execution_count": 7,
     "metadata": {},
     "output_type": "execute_result"
    }
   ],
   "source": [
    "n_max=1000\n",
    "Liste=PileFace(n_max)\n",
    "def AfficheListe(n):\n",
    "    indice,record=Record(Liste[:n])\n",
    "    for i in range(indice):\n",
    "        print(Liste[i],end=\" \")\n",
    "    for i in range(indice,indice+record):\n",
    "        print('\\033[1m' +\"\\033[1;31m\"  + Liste[i] + \"\\033[0;0m\", end=\" \")\n",
    "    for i in range(indice+record,len(Liste[:n])):\n",
    "        print(Liste[i],end=\" \")\n",
    "    print()\n",
    "    print()\n",
    "    print(\"Il y a une suite de {} résultats égaux consécutifs, qui commence à l'indice {}\".format(record,indice+1))\n",
    "\n",
    "widgets.interact(AfficheListe,n=widgets.IntSlider(value=100,min=10,max=n_max,step=1))"
   ]
  },
  {
   "cell_type": "markdown",
   "metadata": {},
   "source": [
    "## Quelle est la probabilité d'obtenir au moins $8$ Pile ou $8$ Face consécutifs?\n",
    "\n",
    "Écrivons un programme qui est plus rapide: il crée la liste de Pile ou Face au fur et à mesure qu'il la parcourt pour déterminer le nombre maximal de résultat égaux consécutifs. Longueur(n) renvoie le nombre maximal de résultats égaux consécutifs dans une suite de $n$ Pile ou Face (sans se préoccuper de à quoi ressemble exactement la suite).\n",
    "\n",
    "Autrement dit, le programme suivant génère une variable aléatoire $L_n$ qui est \"le nombre maximal de résultats égaux consécutifs dans une suite de $n$ Pile ou Face\"."
   ]
  },
  {
   "cell_type": "code",
   "execution_count": 8,
   "metadata": {},
   "outputs": [],
   "source": [
    "def Longueur(n):\n",
    "    l=1\n",
    "    rec=1\n",
    "    for i in range(1,n):\n",
    "        if rd.random()<0.5:\n",
    "            l=l+1\n",
    "        else:\n",
    "            l=1\n",
    "        if l>rec:\n",
    "            rec=l\n",
    "    return rec"
   ]
  },
  {
   "cell_type": "markdown",
   "metadata": {},
   "source": [
    "On va se servir de ce programme pour créer un histogramme qui représente les fréquences observées\n",
    "lors d'une grand nombre de répétitions ($k=10000$) de $n=100$ Pile ou Face.\n",
    "Cela permet d'avoir une idée de la densité discrète de $L_n$. Vous pouvez changez la valeur de $n$ si vous voulez (attention à ne pas prendre $n$ trop grand non plus, sinon le temps de calcul sera très long!)."
   ]
  },
  {
   "cell_type": "code",
   "execution_count": 9,
   "metadata": {},
   "outputs": [
    {
     "data": {
      "image/png": "[encoded data removed]",
      "text/plain": [
       "<Figure size 432x288 with 1 Axes>"
      ]
     },
     "metadata": {
      "needs_background": "light"
     },
     "output_type": "display_data"
    }
   ],
   "source": [
    "k=10000\n",
    "n=100\n",
    "from collections import Counter\n",
    "compte=Counter([Longueur(n) for i in range(k)])\n",
    "\n",
    "for i in sorted(compte):\n",
    "    proba=compte[i]/k\n",
    "    plt.plot([i,i],[0,proba],color='blue')\n",
    "    plt.plot(i,proba,'o',color='red')\n",
    "plt.title(\"Densité discrète (approchée) de L_n pour n={} Pile ou Face\".format(n))\n",
    "plt.show()"
   ]
  },
  {
   "cell_type": "markdown",
   "metadata": {},
   "source": [
    "On remarque que pour $n=100$, la densité discrète $P(L_n=x)$ semble maximale pour $x=6$ (et vaut alors $P(L_n=6)\\approx 0,26$), et  on a aussi $P(L_n=7)\\approx 0,23$, $P(L_n=5)\\approx 0,16$, $P(L_n=8)\\approx 0,15$...\n",
    "\n",
    "On peut reprendre les valeurs au-dessus pour estimer $P(L_n \\leq 5)$ et $P(L_n \\geq 8)$."
   ]
  },
  {
   "cell_type": "code",
   "execution_count": 10,
   "metadata": {},
   "outputs": [
    {
     "name": "stdout",
     "output_type": "stream",
     "text": [
      "La probabilité d'avoir L_n:\n",
      " * plus petit que 5 est approximativement 0.1944\n",
      " * plus grand que 8 est approximativement 0.31650000000000006\n"
     ]
    }
   ],
   "source": [
    "print(\"La probabilité d'avoir L_n:\")\n",
    "proba1=0\n",
    "for i in sorted(compte):\n",
    "    if i<=5:\n",
    "        proba1 = proba1 + compte[i]/k\n",
    "print(\" * plus petit que 5 est approximativement {}\".format(proba1))\n",
    "proba2=0\n",
    "for i in sorted(compte):\n",
    "    if i>=8:\n",
    "        proba2 = proba2 + compte[i]/k\n",
    "print(\" * plus grand que 8 est approximativement {}\".format(proba2))"
   ]
  },
  {
   "cell_type": "markdown",
   "metadata": {},
   "source": [
    "### Dépendance de l'histogramme en fonction de $n$\n",
    "\n",
    "On modifie un peu les programmes précédents pour éviter de recalculer les records d'une même liste plusieurs fois. Par exemple, le programme Records renvoie toutes les valeurs de $(L_i)_{1\\leq i \\leq n}$ pour une suite de Pile ou Face de longueur $n$."
   ]
  },
  {
   "cell_type": "code",
   "execution_count": 11,
   "metadata": {},
   "outputs": [],
   "source": [
    "def Records(n):\n",
    "    l=1\n",
    "    rec=1\n",
    "    records=[rec]\n",
    "    for i in range(1,n):\n",
    "        if rd.random()<0.5:\n",
    "            l=l+1\n",
    "        else:\n",
    "            l=1\n",
    "        if l>rec:\n",
    "            rec=l\n",
    "        records.append(rec)\n",
    "    return records"
   ]
  },
  {
   "cell_type": "markdown",
   "metadata": {},
   "source": [
    "#### Pour les petites valeurs de $n$"
   ]
  },
  {
   "cell_type": "code",
   "execution_count": 13,
   "metadata": {},
   "outputs": [
    {
     "data": {
      "application/vnd.jupyter.widget-view+json": {
       "model_id": "77c940b3f30e4695a45259491633df70",
       "version_major": 2,
       "version_minor": 0
      },
      "text/plain": [
       "interactive(children=(IntSlider(value=1, description='n', min=1), Output()), _dom_classes=('widget-interact',)…"
      ]
     },
     "metadata": {},
     "output_type": "display_data"
    },
    {
     "data": {
      "text/plain": [
       "<function __main__.Histo(n)>"
      ]
     },
     "execution_count": 13,
     "metadata": {},
     "output_type": "execute_result"
    }
   ],
   "source": [
    "n_max=100     ### Nombre maximal de Pile ou Face considérés\n",
    "k=1000        ### Nombre de répétition de l'expérience (qui consiste en n_max Pile ou Face!)\n",
    "H=[Records(n_max) for i in range(k)]\n",
    "\n",
    "from collections import Counter\n",
    "def Histo(n):\n",
    "    ListeRec=[H[i][n-1] for i in range(k)]\n",
    "    compte=Counter(ListeRec)\n",
    "    for i in sorted(compte):\n",
    "        proba=compte[i]/k\n",
    "        plt.plot([i,i],[0,proba],color='blue')\n",
    "        plt.plot(i,proba,'o',color='red')\n",
    "    plt.title(\"Densité discrète (approchée) de L_n pour n={} Pile ou Face\".format(n))\n",
    "\n",
    "widgets.interact(Histo,n=widgets.IntSlider(value=1,min=1,max=100,step=1))"
   ]
  },
  {
   "cell_type": "markdown",
   "metadata": {},
   "source": [
    "#### Pour les grandes valeurs de $n$\n",
    "\n",
    "Attention, cela peut prendre un peu de temps."
   ]
  },
  {
   "cell_type": "code",
   "execution_count": 14,
   "metadata": {},
   "outputs": [
    {
     "data": {
      "application/vnd.jupyter.widget-view+json": {
       "model_id": "529e7ab4f5004e09ad58c0b4e5aafbd7",
       "version_major": 2,
       "version_minor": 0
      },
      "text/plain": [
       "interactive(children=(IntSlider(value=100, description='n', max=10000, min=100, step=100), Output()), _dom_cla…"
      ]
     },
     "metadata": {},
     "output_type": "display_data"
    },
    {
     "data": {
      "text/plain": [
       "<function __main__.Histo(n)>"
      ]
     },
     "execution_count": 14,
     "metadata": {},
     "output_type": "execute_result"
    }
   ],
   "source": [
    "n_max=10000   ### Nombre maximal de Pile ou Face considérés\n",
    "k=1000        ### Nombre de répétition de l'expérience (qui consiste en n_max Pile ou Face!)\n",
    "H2=[]\n",
    "for i in range(k):\n",
    "    R=Records(n_max)\n",
    "    R2=[R[j*100-1] for j in range(1,int(n_max/100)+1)]\n",
    "    H2.append(R2)\n",
    "\n",
    "from collections import Counter\n",
    "def Histo(n):\n",
    "    m=int(n/100)\n",
    "    ListeRec=[H2[i][m-1] for i in range(k)]\n",
    "    compte=Counter(ListeRec)\n",
    "    for i in sorted(compte):\n",
    "        proba=compte[i]/k\n",
    "        plt.plot([i,i],[0,proba],color='blue')\n",
    "        plt.plot(i,proba,'o',color='red')\n",
    "    plt.title(\"Densité discrète (approchée) de L_n pour n={} Pile ou Face\".format(n))\n",
    "\n",
    "widgets.interact(Histo,n=widgets.IntSlider(value=100,min=100,max=n_max,step=100))"
   ]
  },
  {
   "cell_type": "code",
   "execution_count": null,
   "metadata": {},
   "outputs": [],
   "source": []
  }
 ],
 "metadata": {
  "kernelspec": {
   "display_name": "Python 3",
   "language": "python",
   "name": "python3"
  },
  "language_info": {
   "codemirror_mode": {
    "name": "ipython",
    "version": 3
   },
   "file_extension": ".py",
   "mimetype": "text/x-python",
   "name": "python",
   "nbconvert_exporter": "python",
   "pygments_lexer": "ipython3",
   "version": "3.7.6"
  }
 },
 "nbformat": 4,
 "nbformat_minor": 2
}

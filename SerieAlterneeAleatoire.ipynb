{
 "cells": [
  {
   "cell_type": "code",
   "execution_count": 3,
   "metadata": {},
   "outputs": [],
   "source": [
    "import numpy.random as rd\n",
    "from math import *\n",
    "import matplotlib.pyplot as plt\n",
    "import ipywidgets as widgets"
   ]
  },
  {
   "cell_type": "markdown",
   "metadata": {},
   "source": [
    "# Série de signe aléatoire"
   ]
  },
  {
   "cell_type": "markdown",
   "metadata": {},
   "source": [
    "On va étudier la série \"alternée\" aléatoire\n",
    "$$S_0=0, \\qquad S_n = \\sum_{i=1}^n \\frac{X_i}{i} \\, ,$$\n",
    "où $(X_i)_{i\\geq 1}$ est une suite de variables aléatoires i.i.d. de loi $P(X_i=1) =P(X_i=-1) =\\frac12$."
   ]
  },
  {
   "cell_type": "markdown",
   "metadata": {},
   "source": [
    "On commence à définir une fonction qui renvoie +1 ou -1 avec probabilité 1/2"
   ]
  },
  {
   "cell_type": "code",
   "execution_count": 4,
   "metadata": {},
   "outputs": [],
   "source": [
    "def Signe():\n",
    "    u=rd.random()\n",
    "    if u>0.5:\n",
    "        return 1\n",
    "    else:\n",
    "        return -1"
   ]
  },
  {
   "cell_type": "markdown",
   "metadata": {},
   "source": [
    "## Représentation graphique de la suite $(S_n)_{n\\geq 0}$"
   ]
  },
  {
   "cell_type": "code",
   "execution_count": 11,
   "metadata": {},
   "outputs": [],
   "source": [
    "def Serie(n):\n",
    "    S=[0]\n",
    "    for i in range(n+1):\n",
    "        S.append(S[i]+Signe()/(i+1))\n",
    "    return S"
   ]
  },
  {
   "cell_type": "markdown",
   "metadata": {},
   "source": [
    "On définit une fonction qui affiche le graphe de $k$ suites $(S_i)_{i\\geq 0}$ jusqu'à un rang $n$ (avec au maximum $n=100$). Vous pouvez exécuter de nouveau la cellule ci-dessous, en changeant le nombre $k$ de suites (aléatoires) que l'on considère."
   ]
  },
  {
   "cell_type": "code",
   "execution_count": 13,
   "metadata": {
    "scrolled": true
   },
   "outputs": [
    {
     "data": {
      "application/vnd.jupyter.widget-view+json": {
       "model_id": "8039d33f17094c8a94df5b6779671211",
       "version_major": 2,
       "version_minor": 0
      },
      "text/plain": [
       "interactive(children=(IntSlider(value=0, description='n'), Output()), _dom_classes=('widget-interact',))"
      ]
     },
     "metadata": {},
     "output_type": "display_data"
    },
    {
     "data": {
      "text/plain": [
       "<function __main__.DessinSeries(n)>"
      ]
     },
     "execution_count": 13,
     "metadata": {},
     "output_type": "execute_result"
    }
   ],
   "source": [
    "k=5            ### Nombre de suites que l'on considère\n",
    "n_max=100      ### Indice maximal que l'on considère\n",
    "\n",
    "Series1=[Serie(n_max) for i in range(k)]\n",
    "def DessinSeries1(n):\n",
    "    for i in range(k):\n",
    "        plt.plot(Series1[i][:n+1])\n",
    "    plt.title(\"Représentation de k={} suites (S_i) jusqu'à n={}\".format(k,n))\n",
    "\n",
    "widgets.interact(DessinSeries1,n=widgets.IntSlider(value=0,min=0,max=100,step=1))"
   ]
  },
  {
   "cell_type": "markdown",
   "metadata": {},
   "source": [
    "En allant plus loin, jusqu'à $n=10000$."
   ]
  },
  {
   "cell_type": "code",
   "execution_count": 14,
   "metadata": {},
   "outputs": [
    {
     "data": {
      "application/vnd.jupyter.widget-view+json": {
       "model_id": "1a23ce36814c45418352a97bad7e59c3",
       "version_major": 2,
       "version_minor": 0
      },
      "text/plain": [
       "interactive(children=(IntSlider(value=10, description='n', max=1000, step=10), Output()), _dom_classes=('widge…"
      ]
     },
     "metadata": {},
     "output_type": "display_data"
    },
    {
     "data": {
      "text/plain": [
       "<function __main__.DessinSeries(n)>"
      ]
     },
     "execution_count": 14,
     "metadata": {},
     "output_type": "execute_result"
    }
   ],
   "source": [
    "k=5            ### Nombre de suites que l'on considère\n",
    "n_max=1000     ### Indice maximal que l'on considère\n",
    "\n",
    "Series2=[Serie(n_max) for i in range(k)]\n",
    "def DessinSeries2(n):\n",
    "    for i in range(k):\n",
    "        plt.plot(Series2[i][:n+1])\n",
    "    plt.title(\"Représentation de k={} suites (S_i) jusqu'à n={}\".format(k,n))\n",
    "\n",
    "widgets.interact(DessinSeries2,n=widgets.IntSlider(value=10,min=0,max=n_max,step=10))"
   ]
  },
  {
   "cell_type": "markdown",
   "metadata": {},
   "source": [
    "## Une autre série avec un paramètre aléatoire\n",
    "\n",
    "Cette fois, on va étudier la série \"alternée\" aléatoire\n",
    "$$S_0=0, \\qquad S_n = \\sum_{i=1}^n \\frac{X_i}{i^{a}} \\, ,$$\n",
    "où $a>0$ est un paramètre. On se demande si cette suite converge, ou plutôt pour quelles valeurs de $a$ elle converge."
   ]
  },
  {
   "cell_type": "code",
   "execution_count": 16,
   "metadata": {},
   "outputs": [],
   "source": [
    "def Serie2(a,n):\n",
    "    S=[0]\n",
    "    for i in range(n+1):\n",
    "        S.append(S[i]+Signe()/(i+1)**a)\n",
    "    return S"
   ]
  },
  {
   "cell_type": "code",
   "execution_count": 29,
   "metadata": {},
   "outputs": [
    {
     "data": {
      "application/vnd.jupyter.widget-view+json": {
       "model_id": "ae1f5d9fb53d4bcb853105500099ac71",
       "version_major": 2,
       "version_minor": 0
      },
      "text/plain": [
       "interactive(children=(FloatSlider(value=1.0, description='valeur de a', max=1.5, min=0.1), FloatLogSlider(valu…"
      ]
     },
     "metadata": {},
     "output_type": "display_data"
    },
    {
     "data": {
      "text/plain": [
       "<function __main__.DessinSeries(a, n)>"
      ]
     },
     "execution_count": 29,
     "metadata": {},
     "output_type": "execute_result"
    }
   ],
   "source": [
    "k=5            ### Nombre de suites que l'on considère\n",
    "\n",
    "def DessinSeries(a,n):\n",
    "    m=int(n)\n",
    "    Series=[Serie2(a,m) for i in range(k)]\n",
    "    for i in range(k):\n",
    "        plt.plot(Series[i])\n",
    "    plt.title(\"Représentation de k={} suites (S_i) jusqu'à n={}\".format(k,m))\n",
    "\n",
    "a_wid=widgets.FloatSlider(value=1,min=0.1,max=1.5,step=0.1,description='valeur de a')\n",
    "n_wid=widgets.FloatLogSlider(value=1000,base=10,min=2,max=5,step=1,description='Nombre de pas n')\n",
    "widgets.interact(DessinSeries,a=a_wid,n=n_wid)"
   ]
  },
  {
   "cell_type": "code",
   "execution_count": null,
   "metadata": {},
   "outputs": [],
   "source": []
  },
  {
   "cell_type": "code",
   "execution_count": null,
   "metadata": {},
   "outputs": [],
   "source": []
  },
  {
   "cell_type": "code",
   "execution_count": null,
   "metadata": {},
   "outputs": [],
   "source": []
  },
  {
   "cell_type": "code",
   "execution_count": null,
   "metadata": {},
   "outputs": [],
   "source": []
  },
  {
   "cell_type": "code",
   "execution_count": null,
   "metadata": {},
   "outputs": [],
   "source": []
  },
  {
   "cell_type": "code",
   "execution_count": null,
   "metadata": {},
   "outputs": [],
   "source": []
  },
  {
   "cell_type": "markdown",
   "metadata": {},
   "source": [
    "## Histogramme de la loi limite"
   ]
  },
  {
   "cell_type": "markdown",
   "metadata": {},
   "source": [
    "On réécrit une fonction qui ne calcule que $S_n$ (pour ne pas avoir à stocker toute la suite)"
   ]
  },
  {
   "cell_type": "code",
   "execution_count": 7,
   "metadata": {},
   "outputs": [],
   "source": [
    "def serie_fin(n):\n",
    "    S=0\n",
    "    for i in range(n):\n",
    "        S+= signe()/float(i+1)\n",
    "    return S"
   ]
  },
  {
   "cell_type": "markdown",
   "metadata": {},
   "source": [
    "On définit maintenant une fonction qui construit un histogramme de $k$ valeurs de $S_n$"
   ]
  },
  {
   "cell_type": "code",
   "execution_count": 8,
   "metadata": {},
   "outputs": [],
   "source": [
    "def histogramme(n,k):\n",
    "    echantillon=[serie_fin(n) for i in range(k)]\n",
    "    plt.hist(echantillon,bins=36,range=(-3.5,3.5),density=True)"
   ]
  },
  {
   "cell_type": "code",
   "execution_count": 9,
   "metadata": {},
   "outputs": [
    {
     "data": {
      "image/png": "[encoded data removed]",
      "text/plain": [
       "<matplotlib.figure.Figure at 0x10efd0a20>"
      ]
     },
     "metadata": {},
     "output_type": "display_data"
    }
   ],
   "source": [
    "histogramme(1000,100000)"
   ]
  },
  {
   "cell_type": "code",
   "execution_count": null,
   "metadata": {},
   "outputs": [],
   "source": []
  }
 ],
 "metadata": {
  "kernelspec": {
   "display_name": "Python 3",
   "language": "python",
   "name": "python3"
  },
  "language_info": {
   "codemirror_mode": {
    "name": "ipython",
    "version": 3
   },
   "file_extension": ".py",
   "mimetype": "text/x-python",
   "name": "python",
   "nbconvert_exporter": "python",
   "pygments_lexer": "ipython3",
   "version": "3.7.6"
  }
 },
 "nbformat": 4,
 "nbformat_minor": 2
}

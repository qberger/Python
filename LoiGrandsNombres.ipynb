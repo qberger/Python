{
 "cells": [
  {
   "cell_type": "code",
   "execution_count": 2,
   "metadata": {},
   "outputs": [],
   "source": [
    "import numpy.random as rd\n",
    "import matplotlib.pyplot as plt\n",
    "from math import *\n",
    "import ipywidgets as widgets"
   ]
  },
  {
   "cell_type": "markdown",
   "metadata": {},
   "source": [
    "# Somme de variables aléatoires indépendantes et loi des grands nombres\n",
    "\n",
    "\n",
    "Considérons une suite de variables aléatoires $(X_i)_{i\\geq 0}$ indépendantes et toutes de même loi. On peut étudier la suite des sommes partielles $S_n = \\sum_{i=1}^n X_i$ pour savoir comment cette suite se comporte.\n",
    "\n",
    "On peut aussi étudier la moyenne des $n$ premières variables $Y_n = \\frac1n S_n =\\frac{1}{n} \\sum_{i=1}^n X_i$, aussi appelée *moyenne empirique*; soulignons qu'il s'agit d'une variable aléatoire (des valeurs différentes des $X_i$ donnent des valeurs différentes de $Y_n$).\n",
    "La **loi des grands nombres** énonce que si les $X_i$ admettent un espérance finie $\\mu$ (toutes les variables ont alors la même espérance car elles sont de même loi), alors la suite $(Y_n)_{n\\geq 1}$ \"se rapproche\" de $\\mu$ dans le sens suivant:\n",
    "$$\n",
    " \\forall \\epsilon>0\\,, \\qquad \\mathbb{P}\\big( |Y_n -\\mu| >\\epsilon \\big) =0 \\, .\n",
    "$$\n",
    "(On peut en fait montrer que l'événement \"la suite $(Y_n)_{n\\geq 1}$ converge vers $\\mu$\" est de probabilité 1!)\n",
    "\n",
    "Par exemple, si $A_1,A_2, \\ldots$ sont des événements indépendants de même probabilité $p$,\n",
    "alors en considérant les variables aléatoires $X_i=\\mathbf{1}_{A_i}$, qui sont des variables aléatoires de Bernoulli de paramètre $p$, la loi des grands nombres stipule que la proportion $\\frac{1}{n} \\sum_{i=1}^n \\mathbf{1}_{A_i}$\n",
    "d'événements réalisés \"converge\" vers $\\mu =\\mathbb{E}(X_1)=p$, dans le sens ci-dessus. \n"
   ]
  },
  {
   "cell_type": "markdown",
   "metadata": {},
   "source": [
    "## Illustration de la loi des grands nombres\n",
    "\n",
    "Illustrons le comportement (aléatoire) d'une somme de variables aléatoires $S_n = \\sum_{i=1}^n X_i$ (que l'on peut comparer à $n\\mathbb{E}(X_1)$) et de la moyenne empirique $Y_n = \\frac1n S_n$, dans plusieurs exemples."
   ]
  },
  {
   "cell_type": "markdown",
   "metadata": {},
   "source": [
    "#### Variables aléatoires de Bernoulli\n",
    "\n",
    "Vous pouvez changer la valeur du paramètre $p$ comme vous le souhaitez."
   ]
  },
  {
   "cell_type": "code",
   "execution_count": 47,
   "metadata": {},
   "outputs": [
    {
     "data": {
      "application/vnd.jupyter.widget-view+json": {
       "model_id": "831cee3173a94561a191e08c11a5452c",
       "version_major": 2,
       "version_minor": 0
      },
      "text/plain": [
       "HBox(children=(interactive(children=(Play(value=0, description='k', max=500), Output()), _dom_classes=('widget…"
      ]
     },
     "metadata": {},
     "output_type": "display_data"
    }
   ],
   "source": [
    "p=0.5\n",
    "def Bern(p):\n",
    "    if rd.random()<p:\n",
    "        return 1\n",
    "    else:\n",
    "        return 0\n",
    "\n",
    "n=500\n",
    "S=[0]\n",
    "L=[0]\n",
    "for i in range(n):\n",
    "    x=Bern(p)\n",
    "    S.append(S[i]+x)\n",
    "    L.append((i+1)*L[i]/(i+2) +x/(i+2))\n",
    "\n",
    "def Dessin(k):\n",
    "    plt.title(\"Évolution de S_n (et de np) en fonction de n: n={}\".format(k))\n",
    "    plt.plot(S[:k+1])\n",
    "    plt.plot([0,k],[0,p*k],'--', color='black')\n",
    "\n",
    "def LGN(k):\n",
    "    plt.title(\"Évolution de Y_n = S_n/n en fonction de n: n={}\".format(k))\n",
    "    plt.plot(L[:k+1])\n",
    "    plt.plot([0,k],[p,p],'--',color='black')\n",
    "\n",
    "u=widgets.interactive(Dessin,k=widgets.Play(value=0,min=0,max=n,step=1))\n",
    "v=widgets.interactive(LGN,k=widgets.Play(value=0,min=0,max=n,step=1))\n",
    "widgets.HBox([u,v])"
   ]
  },
  {
   "cell_type": "markdown",
   "metadata": {},
   "source": [
    "#### Cas d'une variable aléatoire uniforme"
   ]
  },
  {
   "cell_type": "code",
   "execution_count": 48,
   "metadata": {},
   "outputs": [
    {
     "data": {
      "application/vnd.jupyter.widget-view+json": {
       "model_id": "3201cb9f2aa24c239dc4bf003224cc88",
       "version_major": 2,
       "version_minor": 0
      },
      "text/plain": [
       "HBox(children=(interactive(children=(Play(value=0, description='k', max=500), Output()), _dom_classes=('widget…"
      ]
     },
     "metadata": {},
     "output_type": "display_data"
    }
   ],
   "source": [
    "n2=500\n",
    "S2=[0]\n",
    "L2=[0]\n",
    "for i in range(n2):\n",
    "    x=rd.random()\n",
    "    S2.append(S2[i]+x)\n",
    "    L2.append((i+1)*L2[i]/(i+2) +x/(i+2))\n",
    "\n",
    "def Dessin2(k):\n",
    "    plt.title(\"Évolution de S_n (et de n/2) en fonction de n: n={}\".format(k))\n",
    "    plt.plot(S2[:k+1])\n",
    "    plt.plot([0,k],[0,0.5*k],'--',color='black')\n",
    "\n",
    "def LGN2(k):\n",
    "    plt.title(\"Évolution de Y_n = S_n/n en fonction de n: n={}\".format(k))\n",
    "    plt.plot(L2[:k+1])\n",
    "    plt.plot([0,k],[0.5,0.5],'--',color='black')\n",
    "\n",
    "u2=widgets.interactive(Dessin2, k=widgets.Play(value=0,min=0,max=n2,step=1))\n",
    "v2=widgets.interactive(LGN2,k=widgets.Play(value=0,min=0,max=n2,step=1))\n",
    "widgets.HBox([u2,v2])"
   ]
  },
  {
   "cell_type": "markdown",
   "metadata": {},
   "source": [
    "#### Cas d'une variable aléatoire normale"
   ]
  },
  {
   "cell_type": "code",
   "execution_count": 44,
   "metadata": {},
   "outputs": [
    {
     "data": {
      "application/vnd.jupyter.widget-view+json": {
       "model_id": "7d990ff0144d40c8b464960475eeb665",
       "version_major": 2,
       "version_minor": 0
      },
      "text/plain": [
       "HBox(children=(interactive(children=(IntSlider(value=0, description='k', max=1000, step=10), Output()), _dom_c…"
      ]
     },
     "metadata": {},
     "output_type": "display_data"
    }
   ],
   "source": [
    "n3=1000\n",
    "S3=[0]\n",
    "L3=[0]\n",
    "for i in range(n3):\n",
    "    x=rd.normal(0,1)\n",
    "    S3.append(S3[i]+x)\n",
    "    L3.append((i+1)*L3[i]/(i+2) +x/(i+2))\n",
    "\n",
    "def Dessin3(k):\n",
    "    plt.title(\"Évolution de S_n en fonction de n: n={}\".format(k))\n",
    "    plt.plot(S3[:k+1])\n",
    "    plt.plot([0,k],[0,0],'--',color='black')\n",
    "\n",
    "def LGN3(k):\n",
    "    plt.title(\"Évolution de Y_n = S_n/n en fonction de n: n={}\".format(k))\n",
    "    plt.plot(L3[:k+1])\n",
    "    plt.plot([0,k],[0,0],'--',color='black')\n",
    "\n",
    "u3=widgets.interactive(Dessin3, k=widgets.IntSlider(value=0,min=0,max=n3,step=10))\n",
    "v3=widgets.interactive(LGN3,k=widgets.IntSlider(value=0,min=0,max=n3,step=10))\n",
    "widgets.HBox([u3,v3])"
   ]
  },
  {
   "cell_type": "markdown",
   "metadata": {},
   "source": [
    "## Le cas d'une variable qui n'admet pas d'espérance: Cauchy\n",
    "\n",
    "Représentons trois suites indépendantes."
   ]
  },
  {
   "cell_type": "code",
   "execution_count": 53,
   "metadata": {},
   "outputs": [
    {
     "data": {
      "application/vnd.jupyter.widget-view+json": {
       "model_id": "52a20d0ab9c8446999279347f2a2606c",
       "version_major": 2,
       "version_minor": 0
      },
      "text/plain": [
       "HBox(children=(interactive(children=(IntSlider(value=0, description='k', max=100000, step=1000), Output()), _d…"
      ]
     },
     "metadata": {},
     "output_type": "display_data"
    }
   ],
   "source": [
    "n4=100000\n",
    "\n",
    "def SuiteCauchy(n):\n",
    "    S=[0]\n",
    "    L=[0]\n",
    "    for i in range(n):\n",
    "        x=rd.standard_cauchy()\n",
    "        S.append(S[i]+x)\n",
    "        L.append((i+1)*L[i]/(i+2) +x/(i+2))\n",
    "    return S,L\n",
    "\n",
    "S4,L4=SuiteCauchy(n4)\n",
    "S5,L5=SuiteCauchy(n4)\n",
    "S6,L6=SuiteCauchy(n4)\n",
    "\n",
    "def Dessin4(k):\n",
    "    plt.title(\"Évolution de trois suites S_n en fonction de n: n={}\".format(k))\n",
    "    plt.plot(S4[:k+1])\n",
    "    plt.plot(S5[:k+1])\n",
    "    plt.plot(S6[:k+1])\n",
    "    plt.plot([0,k],[0,0],'--',color='black')\n",
    "\n",
    "def LGN4(k):\n",
    "    plt.title(\"Évolution de Y_n = S_n/n en fonction de n: n={}\".format(k))\n",
    "    plt.plot(L4[:k+1])\n",
    "    plt.plot(L5[:k+1])\n",
    "    plt.plot(L6[:k+1])\n",
    "    plt.plot([0,k],[0,0],'--',color='black')\n",
    "\n",
    "u4=widgets.interactive(Dessin4, k=widgets.IntSlider(value=0,min=0,max=n4,step=1000))\n",
    "v4=widgets.interactive(LGN4,k=widgets.IntSlider(value=0,min=0,max=n4,step=1000))\n",
    "widgets.HBox([u4,v4])"
   ]
  },
  {
   "cell_type": "code",
   "execution_count": null,
   "metadata": {},
   "outputs": [],
   "source": []
  }
 ],
 "metadata": {
  "kernelspec": {
   "display_name": "Python 3",
   "language": "python",
   "name": "python3"
  },
  "language_info": {
   "codemirror_mode": {
    "name": "ipython",
    "version": 3
   },
   "file_extension": ".py",
   "mimetype": "text/x-python",
   "name": "python",
   "nbconvert_exporter": "python",
   "pygments_lexer": "ipython3",
   "version": "3.7.6"
  }
 },
 "nbformat": 4,
 "nbformat_minor": 2
}

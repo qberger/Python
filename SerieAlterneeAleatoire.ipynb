{
 "cells": [
  {
   "cell_type": "code",
   "execution_count": 1,
   "metadata": {},
   "outputs": [],
   "source": [
    "import numpy.random as rd\n",
    "from math import *\n",
    "import matplotlib.pyplot as plt\n",
    "import ipywidgets as widgets"
   ]
  },
  {
   "cell_type": "markdown",
   "metadata": {},
   "source": [
    "Vous savez tous que la série $\\sum_{i=1}^n \\frac{1}{i}$ ne converge pas, mais que la série alternée\n",
    "$\\sum_{i=1}^n \\frac{(-1)^i}{i}$ converge.\n",
    "\n",
    "Vous avez peut-être entendu parler du théorème de réarrangement de Riemman....\n",
    "https://fr.wikipedia.org/wiki/Th%C3%A9or%C3%A8me_de_r%C3%A9arrangement_de_Riemann\n",
    "\n",
    "On va considérer un cas naturel pour un probabiliste: au lieu d'avoir des signes alternés (du type $(-1)^i$), on va considérer des signes aléatoires!"
   ]
  },
  {
   "cell_type": "markdown",
   "metadata": {},
   "source": [
    "# Série harmonique de signe aléatoire"
   ]
  },
  {
   "cell_type": "markdown",
   "metadata": {},
   "source": [
    "On va étudier la série harmonique avec des signes aléatoires.\n",
    "Soit $(X_i)_{i\\geq 1}$ une suite de variables aléatoires indépendantes et de de loi $P(X_i=1) =P(X_i=-1) =\\frac12$.\n",
    "Autrement dit, $X_i$ vaut $+1$ avec probabilité $\\frac12$ et vaut $-1$ avec probabilité $\\frac12$, indépendamment des autres $X_j$.\n",
    "\n",
    "On pose alors $S_0=0$, et pour $n\\geq 1$\n",
    "$$S_n = \\sum_{i=1}^n \\frac{X_i}{i} \\, .$$\n",
    "On cherche alors à savoir comment se comporte la suite aléatoire $(S_n)_{n\\geq 0}$..."
   ]
  },
  {
   "cell_type": "markdown",
   "metadata": {},
   "source": [
    "## Représentation graphique de la suite $(S_n)_{n\\geq 0}$"
   ]
  },
  {
   "cell_type": "markdown",
   "metadata": {},
   "source": [
    "On commence à définir une fonction qui renvoie +1 ou -1 avec probabilité 1/2"
   ]
  },
  {
   "cell_type": "code",
   "execution_count": 2,
   "metadata": {},
   "outputs": [],
   "source": [
    "def Signe():\n",
    "    u=rd.random()\n",
    "    if u>0.5:\n",
    "        return 1\n",
    "    else:\n",
    "        return -1"
   ]
  },
  {
   "cell_type": "markdown",
   "metadata": {},
   "source": [
    "Puis une fonction qui prend en argument un entier $n$ et renvoie la suite $[S_0,S_1, \\ldots, S_n]$"
   ]
  },
  {
   "cell_type": "code",
   "execution_count": 3,
   "metadata": {},
   "outputs": [],
   "source": [
    "def Serie(n):\n",
    "    S=[0]\n",
    "    for i in range(n+1):\n",
    "        S.append(S[i]+Signe()/(i+1))\n",
    "    return S"
   ]
  },
  {
   "cell_type": "markdown",
   "metadata": {},
   "source": [
    "On définit une fonction qui affiche le graphe de $k$ suites aléatoires $(S_n)_{n\\geq 0}$ jusqu'à un rang $n$, ce qui permet de voir l'évolution de $S_n$ en fonction de $n$ (avec au maximum $n=100$). Vous pouvez exécuter de nouveau la cellule ci-dessous, en changeant le nombre $k$ de suites (aléatoires) que l'on considère, cela vous donnera aussi des suites aléatoires différentes."
   ]
  },
  {
   "cell_type": "code",
   "execution_count": 4,
   "metadata": {
    "scrolled": true
   },
   "outputs": [
    {
     "data": {
      "application/vnd.jupyter.widget-view+json": {
       "model_id": "ab9aa9f8020f44f281cad6becbd0945b",
       "version_major": 2,
       "version_minor": 0
      },
      "text/plain": [
       "interactive(children=(IntSlider(value=1, description='n', min=1), Output()), _dom_classes=('widget-interact',)…"
      ]
     },
     "metadata": {},
     "output_type": "display_data"
    },
    {
     "data": {
      "text/plain": [
       "<function __main__.DessinSeries1(n)>"
      ]
     },
     "execution_count": 4,
     "metadata": {},
     "output_type": "execute_result"
    }
   ],
   "source": [
    "k=5            ### Nombre de suites que l'on considère\n",
    "n_max=100      ### Indice maximal que l'on considère\n",
    "\n",
    "Series1=[Serie(n_max) for i in range(k)]\n",
    "def DessinSeries1(n):\n",
    "    for i in range(k):\n",
    "        plt.plot(Series1[i][:n+1])\n",
    "    plt.title(\"Représentation de k={} suites (S_i) jusqu'à n={}\".format(k,n))\n",
    "\n",
    "widgets.interact(DessinSeries1,n=widgets.IntSlider(value=1,min=1,max=100,step=1))"
   ]
  },
  {
   "cell_type": "markdown",
   "metadata": {},
   "source": [
    "En allant plus loin, jusqu'à $n=10000$."
   ]
  },
  {
   "cell_type": "code",
   "execution_count": 5,
   "metadata": {},
   "outputs": [
    {
     "data": {
      "application/vnd.jupyter.widget-view+json": {
       "model_id": "f19dd92447a84405b177a180ee8afa7a",
       "version_major": 2,
       "version_minor": 0
      },
      "text/plain": [
       "interactive(children=(IntSlider(value=10, description='n', max=1000, min=10, step=10), Output()), _dom_classes…"
      ]
     },
     "metadata": {},
     "output_type": "display_data"
    },
    {
     "data": {
      "text/plain": [
       "<function __main__.DessinSeries2(n)>"
      ]
     },
     "execution_count": 5,
     "metadata": {},
     "output_type": "execute_result"
    }
   ],
   "source": [
    "k=5            ### Nombre de suites que l'on considère\n",
    "n_max2=1000     ### Indice maximal que l'on considère\n",
    "\n",
    "Series2=[Serie(n_max2) for i in range(k)]\n",
    "def DessinSeries2(n):\n",
    "    for i in range(k):\n",
    "        plt.plot(Series2[i][:n+1])\n",
    "    plt.title(\"Représentation de k={} suites (S_i) jusqu'à n={}\".format(k,n))\n",
    "\n",
    "widgets.interact(DessinSeries2,n=widgets.IntSlider(value=10,min=10,max=n_max2,step=10))"
   ]
  },
  {
   "cell_type": "markdown",
   "metadata": {},
   "source": [
    "#### Conclusion ?\n",
    "\n",
    "1. La suite $(S_n)_{n\\geq 0}$ semble converger *à chaque fois*... On peut en fait démontrer la chose suivante: l'événement ''la suite $(S_n)_{n\\geq 0}$ converge'' a une probabilité $1$! Voir la Proposition 6.7 du poly (attention, la démonstration est difficile...)\n",
    "\n",
    "2. La limite de la suite semble être différente à chaque fois. Si on pose $W = \\lim_{n\\to\\infty} S_n$, il s'agit donc  d'une *variable aléatoire*, que l'on peut étudier (au moins à l'aide de simulations). Il s'avère que $W$ possède une densité, mais que celle-ci n'est pas explicite; les propriétés de la variable aléatoire $W$ continuent à être étudiées en recherche."
   ]
  },
  {
   "cell_type": "markdown",
   "metadata": {},
   "source": [
    "## Histogramme de la limite\n",
    "\n",
    "On réécrit une fonction qui ne calcule que $S_n$ (pour ne pas avoir à stocker toute la suite), qui sera une valeur approchée de $W =\\lim_{n\\to\\infty} S_n$ si $n$ est suffisamment grand."
   ]
  },
  {
   "cell_type": "code",
   "execution_count": 6,
   "metadata": {},
   "outputs": [],
   "source": [
    "def W(n):\n",
    "    S=0\n",
    "    for i in range(n):\n",
    "        S+= Signe()/(i+1)\n",
    "    return S"
   ]
  },
  {
   "cell_type": "markdown",
   "metadata": {},
   "source": [
    "On va maintenant répéter un grand nombre de fois l'expérience *calculer $S_n$*, et tracer un histogramme des valeurs obtenues."
   ]
  },
  {
   "cell_type": "code",
   "execution_count": 7,
   "metadata": {},
   "outputs": [
    {
     "data": {
      "image/png": "[encoded data removed]",
      "text/plain": [
       "<Figure size 432x288 with 1 Axes>"
      ]
     },
     "metadata": {
      "needs_background": "light"
     },
     "output_type": "display_data"
    }
   ],
   "source": [
    "n=1000  ### la valeur de n pour laquelle S_n qui va nous servir d'approximation de W\n",
    "k=10000 ### le nombre de répétitions de l'expérience (consistant à calculer S_n)\n",
    "\n",
    "echantillon=[W(n) for i in range(k)]\n",
    "plt.title('Histogramme de k={} réalisations de S_n avec n={}'.format(k,n))\n",
    "plt.hist(echantillon,bins=20,density=True,edgecolor='black')\n",
    "plt.show()"
   ]
  },
  {
   "cell_type": "markdown",
   "metadata": {},
   "source": [
    "## Une autre série avec signe aléatoire\n",
    "\n",
    "Cette fois, on va étudier la série avec signe aléatoire suivante: on pose $S_0=0$ et pour $n\\geq 1$\n",
    "$$S_n = \\sum_{i=1}^n \\frac{X_i}{i^{a}} \\, ,$$\n",
    "où $a>0$ est un paramètre. \n",
    "\n",
    "De même que précédemment, on se demande si cette suite aléatoire converge (si elle converge *à chaque fois*), ou plutôt pour quelles valeurs de $a$ elle converge."
   ]
  },
  {
   "cell_type": "code",
   "execution_count": 8,
   "metadata": {},
   "outputs": [],
   "source": [
    "def Serie2(a,n):\n",
    "    S=[0]\n",
    "    for i in range(n+1):\n",
    "        S.append(S[i]+Signe()/(i+1)**a)\n",
    "    return S"
   ]
  },
  {
   "cell_type": "markdown",
   "metadata": {},
   "source": [
    "Quand on change la valeur de $a$, on change le comportement de la suite aléatoire $(S_n)_{n\\geq 0}$."
   ]
  },
  {
   "cell_type": "code",
   "execution_count": 9,
   "metadata": {},
   "outputs": [
    {
     "data": {
      "application/vnd.jupyter.widget-view+json": {
       "model_id": "8bade851f6944c469cf3003e21863710",
       "version_major": 2,
       "version_minor": 0
      },
      "text/plain": [
       "interactive(children=(FloatSlider(value=1.0, description='valeur de a', max=1.51, min=0.1), FloatLogSlider(val…"
      ]
     },
     "metadata": {},
     "output_type": "display_data"
    },
    {
     "data": {
      "text/plain": [
       "<function __main__.DessinSeries(a, n)>"
      ]
     },
     "execution_count": 9,
     "metadata": {},
     "output_type": "execute_result"
    }
   ],
   "source": [
    "k=5            ### Nombre de suites que l'on considère\n",
    "\n",
    "def DessinSeries(a,n):\n",
    "    m=int(n)\n",
    "    Series=[Serie2(a,m) for i in range(k)]\n",
    "    for i in range(k):\n",
    "        plt.plot(Series[i])\n",
    "    plt.title(\"Représentation de {} suites (S_i) jusqu'à n={}, pour a={}\".format(k,m,a))\n",
    "\n",
    "a_wid=widgets.FloatSlider(value=1,min=0.1,max=1.51,step=0.1,description='valeur de a')\n",
    "n_wid=widgets.FloatLogSlider(value=1000,base=10,min=2,max=5,step=1,description='n=')\n",
    "widgets.interact(DessinSeries,a=a_wid,n=n_wid)"
   ]
  },
  {
   "cell_type": "markdown",
   "metadata": {},
   "source": [
    "Créons un histogramme des valeurs de $S_n$, suivant la valeur de $a$.\n",
    "\n",
    "ATTENTION: le programme crée tous les histogrammes pour a=0.1, a=0.2, ... , a=1.5, pour pouvoir ensuite passer de l'un à l'autre rapidement.\n",
    "Cela peut prendre du temps (entre 1 et 2 minutes sur mon ordinateur: vous pouvez réduire la valeur de $k$ pour aller plus vite, mais vous obtiendrez de moins jolis histogrammes...)."
   ]
  },
  {
   "cell_type": "code",
   "execution_count": 28,
   "metadata": {},
   "outputs": [
    {
     "data": {
      "application/vnd.jupyter.widget-view+json": {
       "model_id": "875b6569b95941d7b94d1d54c20dbc77",
       "version_major": 2,
       "version_minor": 0
      },
      "text/plain": [
       "interactive(children=(FloatSlider(value=1.0, description='valeur de a', max=1.51, min=0.1), Output()), _dom_cl…"
      ]
     },
     "metadata": {},
     "output_type": "display_data"
    },
    {
     "data": {
      "text/plain": [
       "<function __main__.Histo(a)>"
      ]
     },
     "execution_count": 28,
     "metadata": {},
     "output_type": "execute_result"
    }
   ],
   "source": [
    "n=1000  ### la valeur de n pour laquelle on va calculer S_n\n",
    "k=10000 ### le nombre de répétitions de l'expérience (consistant à calculer S_n)\n",
    "\n",
    "def W(n):\n",
    "    S=[0 for j in range(15)]\n",
    "    for i in range(n):\n",
    "        X=Signe()\n",
    "        S=[S[j]+X/(i+1)**(0.1*(j+1)) for j in range(15)]\n",
    "    return S\n",
    "\n",
    "H1=[W(n) for i in range(k)]\n",
    "H=[[H1[i][j] for i in range(k)] for j in range(15)]\n",
    "\n",
    "def Histo(a):\n",
    "    plt.title('Histogramme de k={} réalisations de S_n avec n={}, pour a={}'.format(k,n,a))\n",
    "    plt.hist(H[int(a*10)-1],bins=20,density=True,edgecolor='black')\n",
    "\n",
    "a_wid=widgets.FloatSlider(value=1,min=0.1,max=1.51,step=0.1,description='valeur de a')\n",
    "widgets.interact(Histo,a=a_wid)"
   ]
  },
  {
   "cell_type": "markdown",
   "metadata": {},
   "source": [
    "Porter attention au changement dans l'axe des $x$."
   ]
  },
  {
   "cell_type": "code",
   "execution_count": 14,
   "metadata": {},
   "outputs": [],
   "source": []
  },
  {
   "cell_type": "code",
   "execution_count": 21,
   "metadata": {},
   "outputs": [
    {
     "data": {
      "text/plain": [
       "-1.6932579376741574"
      ]
     },
     "execution_count": 21,
     "metadata": {},
     "output_type": "execute_result"
    }
   ],
   "source": [
    "W(1000)[14]"
   ]
  },
  {
   "cell_type": "code",
   "execution_count": null,
   "metadata": {},
   "outputs": [],
   "source": []
  }
 ],
 "metadata": {
  "kernelspec": {
   "display_name": "Python 3",
   "language": "python",
   "name": "python3"
  },
  "language_info": {
   "codemirror_mode": {
    "name": "ipython",
    "version": 3
   },
   "file_extension": ".py",
   "mimetype": "text/x-python",
   "name": "python",
   "nbconvert_exporter": "python",
   "pygments_lexer": "ipython3",
   "version": "3.7.6"
  }
 },
 "nbformat": 4,
 "nbformat_minor": 2
}

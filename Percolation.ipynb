{
 "cells": [
  {
   "cell_type": "code",
   "execution_count": 1,
   "metadata": {},
   "outputs": [],
   "source": [
    "import random as rd\n",
    "import matplotlib.pyplot as plt\n",
    "from math import *\n",
    "import ipywidgets as widgets"
   ]
  },
  {
   "cell_type": "markdown",
   "metadata": {},
   "source": [
    "# Le modèle de percolation\n",
    "\n",
    "Le modèle de percolation permet de décrire différentes situations physiques : il permet par exemple d’étudier les propriétés d’écoulement d’un fluide à traveux un milieu poreux (d’où le nom percolation), mais peut aussi être uti- lisé pour décrire la propagation de feux de forêts ou d’épidémies.\n",
    "\n",
    "On se place sur $\\mathbb{Z}^2$, chaque point $x\\in \\mathbb{Z}^2$ représentant une petite zone de la roche (on peut par exemple identifier $x=(x_1,x_2)\\in \\mathbb{Z}^2$ avec la zone $[x_1,x_1+1[ \\, \\times\\, [x_1,x_1+1[$). \n",
    "Maintenant, on se donne un paramètre $p\\in [0,1]$ et on considère des variables aléatoires indépendantes $(X_x)_{x\\in \\mathbb{Z}^2}$ de Bernoulli de paramètre $p$, associées à chaque $x\\in \\mathbb{Z}^2$. Si $X_x =1$, on dira que *le site $x$ est ouvert*, c'est-à-dire peut laisser passer un liquide; si en revanche $X_x=0$, on dira que *le site $x$ est fermé*, c'est-à-dire ne laisse pas passer de liquide.\n",
    "\n",
    "On va alors se demander si un liquide versé en un point $x$ se répandra loin ou s'il sera bloqué par des sites fermés.\n",
    "\n",
    "En pratique, pour les simulations, on ne va considérer que les sites $x\\in [0,n[^2 \\times \\mathbb{Z}^2$; pour simplifier, on appellera\n",
    "$[0,n[^2 \\times \\mathbb{Z}^2$ la \"boîte\" de taille $n$."
   ]
  },
  {
   "cell_type": "markdown",
   "metadata": {},
   "source": [
    "## Représentation graphique d'une ''grille'' de percolation\n",
    "\n",
    "On écrit une fonction qui génère une ''percolation''  de paramètre $p$ dans la boîte $B_n$:\n",
    "il renvoie une matrice $A$ de taille $n\\times n$ où $A_{i,j}=1$ si le point $(i,j) \\in \\mathbb{Z}^2$ est ouvert."
   ]
  },
  {
   "cell_type": "code",
   "execution_count": 3,
   "metadata": {},
   "outputs": [],
   "source": [
    "def Bern(p):\n",
    "    x=0\n",
    "    if rd.random()<p:\n",
    "        x=1\n",
    "    return x\n",
    "\n",
    "def Percolation(n,p):\n",
    "    return [[Bern(p) for j in range(n)] for i in range(n)]"
   ]
  },
  {
   "cell_type": "code",
   "execution_count": 325,
   "metadata": {},
   "outputs": [
    {
     "data": {
      "text/plain": [
       "[[0, 0, 1, 0, 0, 1, 0, 1],\n",
       " [0, 1, 0, 0, 1, 1, 0, 1],\n",
       " [0, 1, 0, 0, 0, 1, 1, 0],\n",
       " [0, 1, 0, 0, 1, 1, 0, 1],\n",
       " [1, 0, 0, 0, 1, 0, 0, 0],\n",
       " [0, 0, 0, 0, 0, 1, 0, 0],\n",
       " [0, 1, 0, 0, 1, 0, 1, 0],\n",
       " [1, 0, 0, 0, 0, 0, 0, 0]]"
      ]
     },
     "execution_count": 325,
     "metadata": {},
     "output_type": "execute_result"
    }
   ],
   "source": [
    "Percolation(8,0.3)"
   ]
  },
  {
   "cell_type": "markdown",
   "metadata": {},
   "source": [
    "Maintenant, on écrit une fonction qui dessine la configuration de percolation: il place une case noire en $(i,j)$\n",
    "si $A_{i,j}=1$, c'est-à-dire si le site $(i,j)$ est ouvert."
   ]
  },
  {
   "cell_type": "code",
   "execution_count": 300,
   "metadata": {},
   "outputs": [],
   "source": [
    "def Image(A,p):\n",
    "    k=len(A)\n",
    "    if k<20:\n",
    "        taille=4,4\n",
    "    elif k<50:\n",
    "        taille=6,6\n",
    "    else:\n",
    "        taille=8,8\n",
    "    fig, ax = plt.subplots(figsize=(taille))\n",
    "    fig = plt.imshow(A, interpolation='nearest',cmap='Greys')\n",
    "    ax.set_title(\"Percolation dans un carré de côté n={}, avec paramètre p={}\".format(k,p))\n",
    "    fig.axes.get_xaxis().set_visible(False)\n",
    "    fig.axes.get_yaxis().set_visible(False)\n",
    "    plt.show()"
   ]
  },
  {
   "cell_type": "markdown",
   "metadata": {},
   "source": [
    "Dessinons maintenant des configurations de percolation pour différentes valeurs de $n$ et $p$. \n",
    "La manière dont les dessins sont construits peut être interprétée de la manière suivante:\n",
    "pour chaque carré, on tire une variable de Bernoulli de paramètre $p$, et on le colorie en noir si la variable vaut $1$ (c'est-à-dire si le site est ouvert).\n",
    "\n",
    "Vous pouvez exécuter de nouveau la cellule pour obtenir des tirages différents, en changeant aussi les valeurs de $n$ et $p$."
   ]
  },
  {
   "cell_type": "code",
   "execution_count": 326,
   "metadata": {},
   "outputs": [
    {
     "data": {
      "image/png": "[encoded data removed]",
      "text/plain": [
       "<Figure size 288x288 with 1 Axes>"
      ]
     },
     "metadata": {
      "needs_background": "light"
     },
     "output_type": "display_data"
    },
    {
     "data": {
      "image/png": "[encoded data removed]",
      "text/plain": [
       "<Figure size 432x432 with 1 Axes>"
      ]
     },
     "metadata": {
      "needs_background": "light"
     },
     "output_type": "display_data"
    },
    {
     "data": {
      "image/png": "[encoded data removed]",
      "text/plain": [
       "<Figure size 576x576 with 1 Axes>"
      ]
     },
     "metadata": {
      "needs_background": "light"
     },
     "output_type": "display_data"
    }
   ],
   "source": [
    "n,p=10,0.5\n",
    "Image(Percolation(n,p),p)\n",
    "\n",
    "n,p=20,0.6\n",
    "Image(Percolation(n,p),p)\n",
    "\n",
    "n,p=50,0.45\n",
    "Image(Percolation(n,p),p)"
   ]
  },
  {
   "cell_type": "markdown",
   "metadata": {},
   "source": [
    "On peut faire varier le paramètre $p$ pour voir comment les propriétés du dessin évoluent. Pour $p=0$, il n'y a aucun site ouvert (aucun carré noir), et en augmentant $p$, on augmente (de manière aléatoire) le nombre de site ouvert;\n",
    "en moyenne, il y a une proportion $p$ de sites ouverts."
   ]
  },
  {
   "cell_type": "code",
   "execution_count": 327,
   "metadata": {},
   "outputs": [
    {
     "data": {
      "application/vnd.jupyter.widget-view+json": {
       "model_id": "b52e3c563488462bb325c741e32d983a",
       "version_major": 2,
       "version_minor": 0
      },
      "text/plain": [
       "interactive(children=(FloatSlider(value=0.5, description='p', max=0.99, step=0.01), Output()), _dom_classes=('…"
      ]
     },
     "metadata": {},
     "output_type": "display_data"
    },
    {
     "data": {
      "text/plain": [
       "<function __main__.Perco(p)>"
      ]
     },
     "execution_count": 327,
     "metadata": {},
     "output_type": "execute_result"
    }
   ],
   "source": [
    "n=50\n",
    "U=[[rd.random() for i in range(n)] for j in range(n)]\n",
    "def Perco(p):\n",
    "    n=len(U)\n",
    "    A=[[0 for i in range(n)] for j in range(n)]\n",
    "    for i in range(n):\n",
    "        for j in range(n):\n",
    "            if U[i][j]<p:\n",
    "                A[i][j]=1\n",
    "    Image(A,p)\n",
    "wid1=widgets.FloatSlider(value=0.5,min=0,max=0.99,step=0.01)\n",
    "widgets.interact(Perco, p=wid1)"
   ]
  },
  {
   "cell_type": "markdown",
   "metadata": {},
   "source": [
    "Dans le dessin ci-dessus, les variables aléatoires de Bernoulli avec des paramètres $p$ différents sont *couplées*: \n",
    "on a défini $X_x$ de sorte qu'elles soient des variables aléatoires de Bernoulli de paramètres $p$, mais pas indépendantes (si un site est ouvert pour un $p$ donné, il restera ouvert pour tout $p'>p$)."
   ]
  },
  {
   "cell_type": "markdown",
   "metadata": {},
   "source": [
    "## Est-ce qu'un fluide pourra traverser la boîte de taille $n$?\n",
    "\n",
    "La question que l'on se pose est de savoir si, pour une configuration de percolation donnée, un fluide pourra traverser la boîte de taille $n$. Autrement dit, si on dépose un fluide sur le dessus de la boîte, celui-ci pourra-t-il se propager (uniquement à travers des sites *ouverts*) jusqu'au bas de la boîte.\n",
    "\n",
    "La réponse à cette question dépend évidemment de la configuration de percolation qu'on obtient, qui est aléatoire, et dont la loi dépend du paramètre $p$. Il se passe un phénomène intéressant: pour $n$ très grand,\n",
    "- si $p$ est trop petit alors un liquide ne pourra presque jamais traverser la boîte, dans le sens où la probabilité que la configuration tirée laisse passer le liquide est proche de $0$;\n",
    "- si $p$ est suffisamment grand alors un liquide pourra presque toujours traverser la boîte, dans le sens où la probabilité que la configuration tirée laisse passer le liquide est proche de $1$.\n",
    "\n",
    "On appelle ce phénomène transition de phase: les propriétés de configurations de percolation changent brusquement\n",
    "quand $p$ passe un *seuil critique* $p_c$ (dans la limite d'une boîte de taille $n\\to\\infty$). Si $p>p_c$ la roche sera suffisamment poreuse pour laisser passer le liquide (avec très grande probabilité); si $p<p_c$ la roche ne sera pas suffisamment poreuse et ne laissera pas passer le liquide (avec très grande probabilité)."
   ]
  },
  {
   "cell_type": "markdown",
   "metadata": {},
   "source": [
    "### Visualisation de l'écoulement d'un fluide\n",
    "\n",
    "Le programme suivant permettra de décrire l'écoulement d'un fluide à travers la boîte."
   ]
  },
  {
   "cell_type": "code",
   "execution_count": 165,
   "metadata": {},
   "outputs": [],
   "source": [
    "def ExploreHaut(U,p):\n",
    "    n=len(U)\n",
    "    Actifs=[[-1,i] for i in range(n)]     ### Actifs = sites dont on n'a pa encore exploré tous les voisins\n",
    "    Explores=[[-1,i] for i in range(n)]   ### Explores = sites qui ont déjà été testés (fermés ou ouverts)\n",
    "    Composante=[]                         ### Composantes = sites envahis par le liquide\n",
    "    while len(Actifs)>0:\n",
    "        Nouveaux=[]\n",
    "        for a,b in Actifs:            \n",
    "            for y in [[a+1,b],[a-1,b],[a,b+1],[a,b-1]]:\n",
    "                k,l=y\n",
    "                if 0<=k<n and 0<=l<n and y not in Explores:     ## Si y n'a pas été exploré/testé jusque là.\n",
    "                    Explores.append(y)\n",
    "                    if U[k][l]<p:                               ## Si le site est ouvert\n",
    "                        Nouveaux.append(y)                      ## On le rajoute à la liste des nouveaux actifs\n",
    "        Composante.append(Nouveaux)\n",
    "        Actifs=Nouveaux\n",
    "    return Composante\n",
    "\n",
    "def Convert(U,C,p):\n",
    "    n=len(U)\n",
    "    D=[[0 for i in range(n)] for i in range(n)]\n",
    "    for i in range(n):\n",
    "        for j in range(n):\n",
    "            if [i,j] in C:\n",
    "                D[i][j]=4\n",
    "            elif U[i][j]<p:\n",
    "                D[i][j]=1\n",
    "    return D"
   ]
  },
  {
   "cell_type": "markdown",
   "metadata": {},
   "source": [
    "Le programme suivant permet de visualiser l'écoulement du fluide.\n",
    "\n",
    "Vous pouvez exécuter de nouveaux la cellule pour obtenir une configuration de percolation (aléatoire) différente;\n",
    "vous pouvez aussi changer les paramètres (attention, cela peut prendre du temps...). Je vous conseille de prendre un paramètre $p$ entre $0,55$ et $0,62$."
   ]
  },
  {
   "cell_type": "code",
   "execution_count": 332,
   "metadata": {},
   "outputs": [
    {
     "data": {
      "application/vnd.jupyter.widget-view+json": {
       "model_id": "23c607fff332431a9cc932a3462bfe30",
       "version_major": 2,
       "version_minor": 0
      },
      "text/plain": [
       "interactive(children=(Play(value=0, description='Press play', max=112), Output()), _dom_classes=('widget-inter…"
      ]
     },
     "metadata": {},
     "output_type": "display_data"
    },
    {
     "data": {
      "text/plain": [
       "<function __main__.Percole(t)>"
      ]
     },
     "execution_count": 332,
     "metadata": {},
     "output_type": "execute_result"
    }
   ],
   "source": [
    "n=50\n",
    "p=0.6\n",
    "\n",
    "V=[[rd.random() for i in range(n)] for j in range(n)]\n",
    "Q=ExploreHaut(V,p)\n",
    "q=len(Q)\n",
    "H,Etapes=[],[]\n",
    "for i in range(q):\n",
    "    H+=Q[i]\n",
    "    Etapes.append(Convert(V,H,p))\n",
    "\n",
    "def Percole(t):\n",
    "    Image(Etapes[t],p)\n",
    "        \n",
    "wid2= widgets.Play(value=0,min=0,max=q-1,step=1,description=\"Press play\",disabled=False)\n",
    "widgets.interact(Percole, t=wid2)"
   ]
  },
  {
   "cell_type": "markdown",
   "metadata": {},
   "source": [
    "Dans le dessin ci-dessus, les sites en gris clair sont les sites *ouverts* de la percolation qui n'ont pas été atteints par le liquide."
   ]
  },
  {
   "cell_type": "markdown",
   "metadata": {},
   "source": [
    "### Comparer différentes valeurs de $p$ : visualisation de la transition de phase\n",
    "\n",
    "On modifie légèrement le programme ci-dessus pour pouvoir comparer plus facilement différentes valeurs de $p$."
   ]
  },
  {
   "cell_type": "code",
   "execution_count": 243,
   "metadata": {},
   "outputs": [],
   "source": [
    "def Composante(U,p):\n",
    "    Q=ExploreHaut(U,p)\n",
    "    H=[]\n",
    "    for i in range(len(Q)):\n",
    "        H+=Q[i]\n",
    "    return H\n",
    "\n",
    "def ExploreHaut2(U,CC,p):\n",
    "    n=len(U)\n",
    "    Actifs=CC.copy()\n",
    "    Explores=CC.copy()\n",
    "    Composante=CC.copy()\n",
    "    while len(Actifs)>0:\n",
    "        a,b=Actifs.pop(0)\n",
    "        for y in [[a+1,b],[a-1,b],[a,b+1],[a,b-1]]:\n",
    "            k,l=y\n",
    "            if 0<=k<n and 0<=l<n and y not in Explores:\n",
    "                Explores.append(y)\n",
    "                if U[k][l]<p:                               \n",
    "                    Actifs.append(y)                        \n",
    "                    Composante.append(y)\n",
    "    return Composante"
   ]
  },
  {
   "cell_type": "markdown",
   "metadata": {},
   "source": [
    "Pour visualiser la transition de phase, on va comparer la zone inondée par le fluide pour différentes valeurs de $p$: en augmentant $p$, on ouvre de plus en plus de sites, ce qui permet au fluide d'inonder une plus grande région. On observera que la zone inondée deviendra ''d'un coup'' très grande, en général autour de $p\\approx 0,6$. Si l'on considérait une boîte d'une taille gigantesque, on constaterait que le changement se ferait quasiment systématiquement autour de $p_c \\approx 0,593$.\n",
    "\n",
    "Attention, le programme prend quelques secondes. Vous pouvez exécuter de nouveau la cellule pour obtenir une autre configuration. Attention, si vous doublez la valeur de $m$, cela prendra au moins quatre à cinq fois plus de temps... (Le dessin est très joli pour m=200, mais cela prend une dizaine de minutes sur mon ordinateur.)"
   ]
  },
  {
   "cell_type": "code",
   "execution_count": 342,
   "metadata": {},
   "outputs": [
    {
     "data": {
      "application/vnd.jupyter.widget-view+json": {
       "model_id": "b52f6d31ec924c55b0af88cea6765c9a",
       "version_major": 2,
       "version_minor": 0
      },
      "text/plain": [
       "interactive(children=(FloatSlider(value=0.5, description='p', max=0.65, min=0.5, step=0.01), Output()), _dom_c…"
      ]
     },
     "metadata": {},
     "output_type": "display_data"
    },
    {
     "data": {
      "text/plain": [
       "<function __main__.Percole2(p)>"
      ]
     },
     "execution_count": 342,
     "metadata": {},
     "output_type": "execute_result"
    }
   ],
   "source": [
    "m=70\n",
    "W=[[rd.random() for i in range(m)] for j in range(m)]\n",
    "\n",
    "p0=0.5\n",
    "C=Composante(W,p0)\n",
    "R=[Convert(W,C,p0)]\n",
    "for i in range(15):\n",
    "    q=p0+(i+1)*0.01\n",
    "    C=ExploreHaut2(W,C,q)\n",
    "    R.append(Convert(W,C,q))\n",
    "\n",
    "def Percole2(p):\n",
    "    i=int(100*(p-p0))\n",
    "    Image(R[i],p)\n",
    "\n",
    "wid3=widgets.FloatSlider(value=p0,min=p0,max=p0+0.15,step=0.01)\n",
    "widgets.interact(Percole2, p=wid3)"
   ]
  },
  {
   "cell_type": "code",
   "execution_count": null,
   "metadata": {},
   "outputs": [],
   "source": []
  }
 ],
 "metadata": {
  "kernelspec": {
   "display_name": "Python 3",
   "language": "python",
   "name": "python3"
  },
  "language_info": {
   "codemirror_mode": {
    "name": "ipython",
    "version": 3
   },
   "file_extension": ".py",
   "mimetype": "text/x-python",
   "name": "python",
   "nbconvert_exporter": "python",
   "pygments_lexer": "ipython3",
   "version": "3.7.6"
  }
 },
 "nbformat": 4,
 "nbformat_minor": 2
}

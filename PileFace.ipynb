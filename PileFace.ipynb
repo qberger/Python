{
 "cells": [
  {
   "cell_type": "code",
   "execution_count": 3,
   "metadata": {},
   "outputs": [],
   "source": [
    "from ipywidgets import *\n",
    "import numpy.random as rd\n",
    "from math import *\n",
    "import matplotlib.pyplot as plt"
   ]
  },
  {
   "cell_type": "markdown",
   "metadata": {},
   "source": [
    "# Pile ou Face"
   ]
  },
  {
   "cell_type": "markdown",
   "metadata": {},
   "source": [
    "On va écrire un programme qui affiche un nombre $n$ de Pile ou Face"
   ]
  },
  {
   "cell_type": "code",
   "execution_count": 10,
   "metadata": {},
   "outputs": [
    {
     "name": "stdout",
     "output_type": "stream",
     "text": [
      "F P F F P F F F F F P F F P F P F P F F P P P F P P P F P P P P F F P F P F F P F F P F P F P F P F P F F P P F F F P F F F P F P F P F F P F P P P P P F P P F F P P F F P F F F P P F F P F P P F F F F P P P P F P P P F P P P P P P F F F P P F F P P P F F P F F F F P P P F P F P F F F F P P P P P P P F P P P F P P P F P P F P F F P F F P F F P F F P F F P P P P F F P F P F P F F F P P P P P P P F "
     ]
    }
   ],
   "source": [
    "n=200\n",
    "for i in range(n):\n",
    "    if rd.random()<0.5:\n",
    "        print('P', end=\" \")\n",
    "    else:\n",
    "        print('F',end=\" \")"
   ]
  },
  {
   "cell_type": "markdown",
   "metadata": {},
   "source": [
    "## Longue suite de résultats égaux consécutifs"
   ]
  },
  {
   "cell_type": "code",
   "execution_count": 6,
   "metadata": {},
   "outputs": [],
   "source": [
    "def PileFace(n):\n",
    "    L=[]\n",
    "    for i in range(n):\n",
    "        if rd.random()<0.5:\n",
    "            L.append('P')\n",
    "        else:\n",
    "            L.append('F')\n",
    "    return L"
   ]
  },
  {
   "cell_type": "code",
   "execution_count": 29,
   "metadata": {},
   "outputs": [],
   "source": [
    "def Record(Liste):\n",
    "    l=1\n",
    "    debut=0\n",
    "    rec=1\n",
    "    x=Liste[0]\n",
    "    for i in range(1,len(Liste)):\n",
    "        y=Liste[i]\n",
    "        if y==x:\n",
    "            l=l+1\n",
    "        else:\n",
    "            l=1\n",
    "        if l>rec:\n",
    "            rec=l\n",
    "            debut=i-rec+1\n",
    "        x=y\n",
    "    return debut,rec"
   ]
  },
  {
   "cell_type": "code",
   "execution_count": 44,
   "metadata": {},
   "outputs": [
    {
     "name": "stdout",
     "output_type": "stream",
     "text": [
      "F P P P P P F P P P P F P F P F F P P F P P P P F P F F P P F F F F P P F F F P P P F F P F P F P P F F F F F P F P P P F F P F P F F P P F P P F F P F F F F P P P P F F F F \u001b[1m\u001b[1;31mP\u001b[0;0m \u001b[1m\u001b[1;31mP\u001b[0;0m \u001b[1m\u001b[1;31mP\u001b[0;0m \u001b[1m\u001b[1;31mP\u001b[0;0m \u001b[1m\u001b[1;31mP\u001b[0;0m \u001b[1m\u001b[1;31mP\u001b[0;0m \u001b[1m\u001b[1;31mP\u001b[0;0m \u001b[1m\u001b[1;31mP\u001b[0;0m \u001b[1m\u001b[1;31mP\u001b[0;0m \u001b[1m\u001b[1;31mP\u001b[0;0m \u001b[1m\u001b[1;31mP\u001b[0;0m \u001b[1m\u001b[1;31mP\u001b[0;0m F F F F F F P P P P P F F F P F F P P P P P P P P P P F P P F P F P P F F F F P P F F F F F F F F F P F P F P F P F P F P P F P F P P F F F P F F F P F F P P F P F P P F F F P F P P F P P F P P P P F F \n",
      "Il y a une suite de 12 résultats égaux consécutifs, qui commence à l'indice 87\n"
     ]
    }
   ],
   "source": [
    "n=200\n",
    "Liste=PileFace(n)\n",
    "indice,record=Record(Liste)\n",
    "for i in range(indice):\n",
    "    print(Liste[i],end=\" \")\n",
    "for i in range(indice,indice+record):\n",
    "    print('\\033[1m' +\"\\033[1;31m\"  + Liste[i] + \"\\033[0;0m\", end=\" \")\n",
    "for i in range(indice+record,len(Liste)):\n",
    "    print(Liste[i],end=\" \")\n",
    "\n",
    "print()\n",
    "print(\"Il y a une suite de \",end=\"\")\n",
    "print(record,end=\"\")\n",
    "print(\" résultats égaux consécutifs, qui commence à l'indice \", end=\"\")\n",
    "print(indice)"
   ]
  },
  {
   "cell_type": "markdown",
   "metadata": {},
   "source": [
    "### Si on ne s'intéresse qu'à la longueur..."
   ]
  },
  {
   "cell_type": "markdown",
   "metadata": {},
   "source": [
    "On peut aller plus vite."
   ]
  },
  {
   "cell_type": "code",
   "execution_count": 13,
   "metadata": {},
   "outputs": [],
   "source": [
    "def Longueur(n):\n",
    "    l=1\n",
    "    rec=1\n",
    "    for i in range(1,n):\n",
    "        if rd.random()<0.5:\n",
    "            l=l+1\n",
    "        else:\n",
    "            l=1\n",
    "        if l>rec:\n",
    "            rec=l\n",
    "    return rec"
   ]
  },
  {
   "cell_type": "code",
   "execution_count": 14,
   "metadata": {},
   "outputs": [],
   "source": [
    "k=10000\n",
    "l=15\n",
    "Proba=[0 for i in range(l)]\n",
    "n=100\n",
    "for i in range(k):\n",
    "    j=Longueur(n)\n",
    "    if j<l+1:\n",
    "        Proba[j-1] +=1/k"
   ]
  },
  {
   "cell_type": "code",
   "execution_count": 15,
   "metadata": {},
   "outputs": [
    {
     "data": {
      "image/png": "[encoded data removed]",
      "text/plain": [
       "<Figure size 432x288 with 1 Axes>"
      ]
     },
     "metadata": {
      "needs_background": "light"
     },
     "output_type": "display_data"
    }
   ],
   "source": [
    "for i in range(l):\n",
    "    plt.plot([i+1,i+1],[0,Proba[i]],color='blue')\n",
    "    plt.plot(i+1,Proba[i],'o',color='red')\n",
    "plt.show()"
   ]
  },
  {
   "cell_type": "code",
   "execution_count": 26,
   "metadata": {},
   "outputs": [
    {
     "data": {
      "application/vnd.jupyter.widget-view+json": {
       "model_id": "0da8630239c5401686fd83948a288d53",
       "version_major": 2,
       "version_minor": 0
      },
      "text/plain": [
       "interactive(children=(IntSlider(value=7, description='k', max=15), Output()), _dom_classes=('widget-interact',…"
      ]
     },
     "metadata": {},
     "output_type": "display_data"
    },
    {
     "data": {
      "text/plain": [
       "<function __main__.Superieur(k)>"
      ]
     },
     "execution_count": 26,
     "metadata": {},
     "output_type": "execute_result"
    }
   ],
   "source": [
    "def Superieur(k):\n",
    "    return 1-sum(Proba[:k])\n",
    "interact(Superieur,k=(0,l,1))"
   ]
  },
  {
   "cell_type": "code",
   "execution_count": null,
   "metadata": {},
   "outputs": [],
   "source": []
  }
 ],
 "metadata": {
  "kernelspec": {
   "display_name": "Python 3",
   "language": "python",
   "name": "python3"
  },
  "language_info": {
   "codemirror_mode": {
    "name": "ipython",
    "version": 3
   },
   "file_extension": ".py",
   "mimetype": "text/x-python",
   "name": "python",
   "nbconvert_exporter": "python",
   "pygments_lexer": "ipython3",
   "version": "3.7.6"
  }
 },
 "nbformat": 4,
 "nbformat_minor": 2
}

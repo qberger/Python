{
 "cells": [
  {
   "cell_type": "code",
   "execution_count": 1,
   "metadata": {},
   "outputs": [],
   "source": [
    "import numpy.random as rd\n",
    "from math import *\n",
    "import matplotlib.pyplot as plt\n",
    "import ipywidgets as widgets"
   ]
  },
  {
   "cell_type": "markdown",
   "metadata": {},
   "source": [
    "# Marches aléatoires en dimension $2$"
   ]
  },
  {
   "cell_type": "markdown",
   "metadata": {},
   "source": [
    "On va essayer de modéliser le déplacement d'une personne indécise dans les rues d'une ville, ou d'une particule dans un liquide.\n",
    "On va prendre deux exemples:\n",
    "- un marcheur qui se déplace aléatoirement sur $\\mathbb{Z}^2$, en choisissant à chaque pas une direction parmi Nord, Sud, Est ou Ouest, avec probabilité $\\frac14$.\n",
    "- un marcheur qui se déplace aléatoirement dans $\\mathbb{R}^2$, en choisissant une direction (un angle dans $[0,2\\pi]$) de manière uniforme, et en faisant un pas dans cette direction."
   ]
  },
  {
   "cell_type": "markdown",
   "metadata": {},
   "source": [
    "## Premier exemple: une marche aléatoire sur $\\mathbb{Z}^2$\n",
    "\n",
    "Le premier exemple est celui où le marcheur fait un pas dans la direction Nord, Sud, Est ou Ouest.\n",
    "Un pas est modélisé par un vecteur aléatoire $Z$ à valeur dans $\\{(0,1),(0,-1),(1,0),(-1,0)\\}$ (qui correspond à Nord, Sud, Est, Ouest).\n",
    "\n",
    "Le programme ci-dessous permet de modéliser un pas."
   ]
  },
  {
   "cell_type": "code",
   "execution_count": 2,
   "metadata": {},
   "outputs": [],
   "source": [
    "def Pas1():\n",
    "    x=rd.random()\n",
    "    if x<0.25:\n",
    "        return 1,0\n",
    "    elif x<0.5:\n",
    "        return -1,0\n",
    "    elif x<0.75:\n",
    "        return 0,1\n",
    "    else:\n",
    "        return 0,-1"
   ]
  },
  {
   "cell_type": "markdown",
   "metadata": {},
   "source": [
    "Ensuite, la position du marcheur après $n$ pas est donnée par $S_n:= \\sum_{i=1}^n Z_i$ où les $Z_i$ sont des vecteurs aléatoires indépendantes, de même loi que $Z$ (le vecteur $Z_i$ décrit le $i$-ème pas du marcheur).\n",
    "\n",
    "Le programme ci-dessous prend en argument un entier $n$ (le nombre de pas), et renvoie la suite $S_0, S_1, \\ldots, S_n$ des positions successives du marcheur; ou plutôt les suites $X_0, X_1, \\ldots, X_n$ et $Y_0, Y_1, \\ldots, Y_n$\n",
    "des abscisses et ordonnées des positions successives."
   ]
  },
  {
   "cell_type": "code",
   "execution_count": 3,
   "metadata": {},
   "outputs": [],
   "source": [
    "def Marche1(n):\n",
    "    X,Y=[0],[0]\n",
    "    for i in range(n):\n",
    "        x,y=Pas1()\n",
    "        X.append(X[-1]+x),Y.append(Y[-1]+y)\n",
    "    return X,Y"
   ]
  },
  {
   "cell_type": "markdown",
   "metadata": {},
   "source": [
    "On peut maintenant dessiner la trajectoire d'un marcheur (ou de plusieurs marcheurs) après $n=1000$ pas. Le point de départ est en noir.\n",
    "\n",
    "Vous pouvez changer la valeur de $n$ sur la première ligne."
   ]
  },
  {
   "cell_type": "code",
   "execution_count": 4,
   "metadata": {
    "scrolled": true
   },
   "outputs": [
    {
     "data": {
      "application/vnd.jupyter.widget-view+json": {
       "model_id": "9dbc4bcdef15482d9544792c4e832375",
       "version_major": 2,
       "version_minor": 0
      },
      "text/plain": [
       "interactive(children=(IntSlider(value=2, description='k', max=4, min=1), Output()), _dom_classes=('widget-inte…"
      ]
     },
     "metadata": {},
     "output_type": "display_data"
    },
    {
     "data": {
      "text/plain": [
       "<function __main__.Trajectoire1(k)>"
      ]
     },
     "execution_count": 4,
     "metadata": {},
     "output_type": "execute_result"
    }
   ],
   "source": [
    "n=1000\n",
    "def Trajectoire1(k):\n",
    "    for i in range(k):\n",
    "        X,Y=Marche1(n)\n",
    "        plt.title('Trajectoire ({} pas) de k={} Marcheurs'.format(n,k))\n",
    "        plt.plot(X,Y)\n",
    "        plt.plot(0,0,'o',color='black')\n",
    "        plt.plot(X[-1],Y[-1],'o',color='red')\n",
    "        plt.axis('equal')\n",
    "widgets.interact(Trajectoire1,k=(1,4,1))"
   ]
  },
  {
   "cell_type": "markdown",
   "metadata": {},
   "source": [
    "## Deuxième exemple: une marche aléatoire sur $\\mathbb{R}^2$"
   ]
  },
  {
   "cell_type": "markdown",
   "metadata": {},
   "source": [
    "Considérons le cas où à chaque pas, la personne choisit une direction au hasard, et fait un pas (de longueur $1$) dans cette direction.\n",
    "\n",
    "Si $\\Theta \\sim \\mathcal{U}(0,2\\pi)$, un pas sera donné par $Z =(X,Y)$ où $X= \\cos\\Theta$\n",
    "et $Y=\\sin \\Theta$. Le programme ci-dessous permet de générer un pas."
   ]
  },
  {
   "cell_type": "code",
   "execution_count": 5,
   "metadata": {},
   "outputs": [],
   "source": [
    "def Pas2():\n",
    "    theta=2*pi*rd.random()\n",
    "    return cos(theta),sin(theta)"
   ]
  },
  {
   "cell_type": "markdown",
   "metadata": {},
   "source": [
    "De même que précédemment, la position du marcheur après $n$ pas est donnée par $S_n:= \\sum_{i=1}^n Z_i$ où les $Z_i$ sont des vecteurs aléatoires indépendantes, de même loi que $Z$ (le vecteur $Z_i$ décrit le $i$-ème pas du marcheur).\n",
    "\n",
    "Le programme ci-dessous prend en argument un entier $n$ (le nombre de pas), et renvoie la suite $S_0, S_1, \\ldots, S_n$ des positions successives du marcheur; ou plutôt les suites $X_0, X_1, \\ldots, X_n$ et $Y_0, Y_1, \\ldots, Y_n$\n",
    "des abscisses et ordonnées des positions successives."
   ]
  },
  {
   "cell_type": "code",
   "execution_count": 6,
   "metadata": {},
   "outputs": [],
   "source": [
    "def Marche2(n):\n",
    "    X,Y=[0],[0]\n",
    "    for i in range(n):\n",
    "        x,y=Pas2()\n",
    "        X.append(X[-1]+x),Y.append(Y[-1]+y)\n",
    "    return X,Y"
   ]
  },
  {
   "cell_type": "markdown",
   "metadata": {},
   "source": [
    "On peut maintenant dessiner la trajectoire d'un marcheur (ou de plusieurs marcheurs) après $n=1000$ pas.\n",
    "\n",
    "Vous pouvez changer la valeur de $n$ sur la première ligne."
   ]
  },
  {
   "cell_type": "code",
   "execution_count": 7,
   "metadata": {},
   "outputs": [
    {
     "data": {
      "application/vnd.jupyter.widget-view+json": {
       "model_id": "6f617d12f69b41b9b8df134b09a7754d",
       "version_major": 2,
       "version_minor": 0
      },
      "text/plain": [
       "interactive(children=(IntSlider(value=2, description='k', max=4, min=1), Output()), _dom_classes=('widget-inte…"
      ]
     },
     "metadata": {},
     "output_type": "display_data"
    },
    {
     "data": {
      "text/plain": [
       "<function __main__.Trajectoire2(k)>"
      ]
     },
     "execution_count": 7,
     "metadata": {},
     "output_type": "execute_result"
    }
   ],
   "source": [
    "n=1000\n",
    "def Trajectoire2(k):\n",
    "    for i in range(k):\n",
    "        X,Y=Marche2(n)\n",
    "        plt.title('Trajectoire ({} pas) de k={} Marcheurs'.format(n,k))\n",
    "        plt.plot(X,Y)\n",
    "        plt.plot(0,0,'o',color='black')\n",
    "        plt.plot(X[-1],Y[-1],'o',color='red')\n",
    "        plt.axis('equal')\n",
    "widgets.interact(Trajectoire2,k=(1,4,1),description='Nombre de marcheurs')"
   ]
  },
  {
   "cell_type": "markdown",
   "metadata": {},
   "source": [
    "## Comparaison des deux marches aléatoires"
   ]
  },
  {
   "cell_type": "markdown",
   "metadata": {},
   "source": [
    "Avec $n=100\\,000$ pas, pouvez-vous faire la différence entre les deux marches?"
   ]
  },
  {
   "cell_type": "code",
   "execution_count": 8,
   "metadata": {},
   "outputs": [
    {
     "data": {
      "image/png": "[encoded data removed]",
      "text/plain": [
       "<Figure size 432x288 with 1 Axes>"
      ]
     },
     "metadata": {
      "needs_background": "light"
     },
     "output_type": "display_data"
    }
   ],
   "source": [
    "n=100000\n",
    "X,Y=Marche1(n)\n",
    "plt.plot(X,Y)\n",
    "plt.plot(0,0,'o',color='black')\n",
    "plt.plot(X[-1],Y[-1],'o',color='red')\n",
    "X,Y=Marche2(n)\n",
    "plt.plot(X,Y)\n",
    "plt.plot(0,0,'o',color='black')\n",
    "plt.plot(X[-1],Y[-1],'o',color='red')\n",
    "plt.axis('equal')\n",
    "plt.show()"
   ]
  },
  {
   "cell_type": "markdown",
   "metadata": {},
   "source": [
    "### Représentation dynamique: voir l'évolution de la marche en fonction du nombre de pas"
   ]
  },
  {
   "cell_type": "code",
   "execution_count": 9,
   "metadata": {},
   "outputs": [],
   "source": [
    "def Dessin(n):\n",
    "    x,y=X[:n+1],Y[:n+1]\n",
    "    u,v=U[:n+1],V[:n+1]\n",
    "    plt.title(\"Trajectoire des deux marches aléatoires avec n={} pas\".format(n))\n",
    "    plt.plot(x,y)\n",
    "    plt.plot(u,v)\n",
    "    plt.plot(0,0,'o',color='black')\n",
    "    plt.plot(x[n],y[n],'o',color='red')\n",
    "    plt.plot(u[n],v[n],'o',color='red')\n",
    "    plt.axis('equal')\n",
    "    plt.show()"
   ]
  },
  {
   "cell_type": "code",
   "execution_count": 10,
   "metadata": {},
   "outputs": [
    {
     "data": {
      "application/vnd.jupyter.widget-view+json": {
       "model_id": "a94a84820cc64db8871d1c7c2382b93b",
       "version_major": 2,
       "version_minor": 0
      },
      "text/plain": [
       "interactive(children=(IntSlider(value=0, description='n', max=10000, step=10), Output()), _dom_classes=('widge…"
      ]
     },
     "metadata": {},
     "output_type": "display_data"
    },
    {
     "data": {
      "text/plain": [
       "<function __main__.Dessin(n)>"
      ]
     },
     "execution_count": 10,
     "metadata": {},
     "output_type": "execute_result"
    }
   ],
   "source": [
    "k=10000\n",
    "X,Y=Marche1(k)\n",
    "U,V=Marche2(k)\n",
    "widgets.interact(Dessin,n=widgets.IntSlider(value=0,min=0,max=10000,step=10))"
   ]
  },
  {
   "cell_type": "code",
   "execution_count": null,
   "metadata": {},
   "outputs": [],
   "source": []
  }
 ],
 "metadata": {
  "kernelspec": {
   "display_name": "Python 3",
   "language": "python",
   "name": "python3"
  },
  "language_info": {
   "codemirror_mode": {
    "name": "ipython",
    "version": 3
   },
   "file_extension": ".py",
   "mimetype": "text/x-python",
   "name": "python",
   "nbconvert_exporter": "python",
   "pygments_lexer": "ipython3",
   "version": "3.7.6"
  }
 },
 "nbformat": 4,
 "nbformat_minor": 2
}

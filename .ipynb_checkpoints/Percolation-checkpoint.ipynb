{
 "cells": [
  {
   "cell_type": "code",
   "execution_count": 1,
   "metadata": {},
   "outputs": [],
   "source": [
    "import random as rd\n",
    "import matplotlib.pyplot as plt\n",
    "from math import *\n",
    "import ipywidgets as widgets"
   ]
  },
  {
   "cell_type": "markdown",
   "metadata": {},
   "source": [
    "# Le modèle de percolation"
   ]
  },
  {
   "cell_type": "markdown",
   "metadata": {},
   "source": [
    "## Générer une ''grille'' de percolation"
   ]
  },
  {
   "cell_type": "markdown",
   "metadata": {},
   "source": [
    "On crée d'abord une fonction qui génère une variable aléatoire de Bernoulli de paramètre $p$"
   ]
  },
  {
   "cell_type": "code",
   "execution_count": 2,
   "metadata": {},
   "outputs": [],
   "source": [
    "def Bern(p):\n",
    "    x=0\n",
    "    if rd.random()<p:\n",
    "        x=1\n",
    "    return x"
   ]
  },
  {
   "cell_type": "markdown",
   "metadata": {},
   "source": [
    "Maintenant, on écrit une fonction qui génère une ''percolation''  de paramètre $p$ dans la boîte $[1,n]\\times [1,n]$:\n",
    "il renvoie une matrice $A$ de taille $n\\times n$ où $A_{i,j}=1$ si le point (i,j) est colorié en noir."
   ]
  },
  {
   "cell_type": "code",
   "execution_count": 3,
   "metadata": {},
   "outputs": [],
   "source": [
    "def Percolation(n,p):\n",
    "    return [[Bern(p) for j in range(n)] for i in range(n)]"
   ]
  },
  {
   "cell_type": "code",
   "execution_count": 4,
   "metadata": {},
   "outputs": [
    {
     "data": {
      "text/plain": [
       "[[1, 1, 0, 0, 1, 1, 0, 1],\n",
       " [0, 1, 0, 1, 0, 0, 0, 1],\n",
       " [0, 0, 1, 0, 0, 0, 0, 0],\n",
       " [1, 1, 0, 0, 0, 1, 1, 0],\n",
       " [1, 0, 1, 0, 1, 0, 0, 0],\n",
       " [1, 0, 1, 0, 0, 0, 0, 0],\n",
       " [0, 0, 0, 0, 0, 1, 0, 0],\n",
       " [0, 0, 0, 1, 0, 1, 0, 1]]"
      ]
     },
     "execution_count": 4,
     "metadata": {},
     "output_type": "execute_result"
    }
   ],
   "source": [
    "Percolation(8,0.3)"
   ]
  },
  {
   "cell_type": "markdown",
   "metadata": {},
   "source": [
    "Maintenant, on écrit une fonction qui dessine le ''damier'' d'une matrice : il place une case noire en $(i,j)$\n",
    "si $A_{i,j}=1$."
   ]
  },
  {
   "cell_type": "code",
   "execution_count": 300,
   "metadata": {},
   "outputs": [],
   "source": [
    "def Image(A,p):\n",
    "    k=len(A)\n",
    "    if k<20:\n",
    "        taille=4,4\n",
    "    elif k<50:\n",
    "        taille=6,6\n",
    "    else:\n",
    "        taille=8,8\n",
    "    fig, ax = plt.subplots(figsize=(taille))\n",
    "    fig = plt.imshow(A, interpolation='nearest',cmap='Greys')\n",
    "    ax.set_title(\"Percolation dans un carré de côté n={}, avec paramètre p={}\".format(k,p))\n",
    "    fig.axes.get_xaxis().set_visible(False)\n",
    "    fig.axes.get_yaxis().set_visible(False)\n",
    "    plt.show()"
   ]
  },
  {
   "cell_type": "code",
   "execution_count": 304,
   "metadata": {},
   "outputs": [
    {
     "data": {
      "image/png": "[encoded data removed]",
      "text/plain": [
       "<Figure size 288x288 with 1 Axes>"
      ]
     },
     "metadata": {
      "needs_background": "light"
     },
     "output_type": "display_data"
    },
    {
     "data": {
      "image/png": "[encoded data removed]",
      "text/plain": [
       "<Figure size 432x432 with 1 Axes>"
      ]
     },
     "metadata": {
      "needs_background": "light"
     },
     "output_type": "display_data"
    },
    {
     "data": {
      "image/png": "[encoded data removed]",
      "text/plain": [
       "<Figure size 576x576 with 1 Axes>"
      ]
     },
     "metadata": {
      "needs_background": "light"
     },
     "output_type": "display_data"
    }
   ],
   "source": [
    "n,p=10,0.5\n",
    "Image(Percolation(n,p),p)\n",
    "\n",
    "n,p=20,0.6\n",
    "Image(Percolation(n,p),p)\n",
    "\n",
    "n,p=50,0.45\n",
    "Image(Percolation(n,p),p)"
   ]
  },
  {
   "cell_type": "code",
   "execution_count": 319,
   "metadata": {},
   "outputs": [
    {
     "data": {
      "application/vnd.jupyter.widget-view+json": {
       "model_id": "a16aec29456d4be99ec55f665c8b3c67",
       "version_major": 2,
       "version_minor": 0
      },
      "text/plain": [
       "interactive(children=(FloatSlider(value=0.5, description='p', max=0.99, step=0.01), Output()), _dom_classes=('…"
      ]
     },
     "metadata": {},
     "output_type": "display_data"
    },
    {
     "data": {
      "text/plain": [
       "<function __main__.Perco(p)>"
      ]
     },
     "execution_count": 319,
     "metadata": {},
     "output_type": "execute_result"
    }
   ],
   "source": [
    "n=50\n",
    "U=[[rd.random() for i in range(n)] for j in range(n)]\n",
    "def Perco(p):\n",
    "    n=len(U)\n",
    "    A=[[0 for i in range(n)] for j in range(n)]\n",
    "    for i in range(n):\n",
    "        for j in range(n):\n",
    "            if U[i][j]<p:\n",
    "                A[i][j]=1\n",
    "    Image(A,p)\n",
    "wid1=widgets.FloatSlider(value=0.5,min=0,max=0.99,step=0.01)\n",
    "widgets.interact(Perco, p=wid1)"
   ]
  },
  {
   "cell_type": "markdown",
   "metadata": {},
   "source": [
    "## Est-ce qu'un liquide pourra traverser?\n",
    "\n",
    "On va, à partir d'un sommet $x$ (que l'on prendra par exemple égal à (0,0)), explorer ses voisins au fur et à mesure, dans la limite d'une boîte $[-n,n]\\times [-n,n]$.\n",
    "\n",
    "On dira qu'un sommet est actif si on n'a pas\n",
    "Pour chaque sommet actif, on explore ses voisins: si on trouve un nouveau site colorié en noir, on le rajoute à la liste des actifs."
   ]
  },
  {
   "cell_type": "markdown",
   "metadata": {},
   "source": [
    "On se donne une configuration de percolation (des uniformes), et on l'explore par le haut.\n",
    "On va le faire étape par étape.\n",
    "\n",
    "- sommets actifs $\\to$ sommets ouverts, dont les connexions sont encore à explorer\n",
    "- sommets explorés $\\to$ sommets que l'on a déjà explorés et qui sont soit vides, soit déjà dans la composante.\n",
    "- composante $\\to$ sommets qui ont étés explorés, et qui sont dans la composante.\n",
    "\n",
    "On va le faire étape par étape: Actifs $\\to$ NouveauxActifs"
   ]
  },
  {
   "cell_type": "code",
   "execution_count": 165,
   "metadata": {},
   "outputs": [],
   "source": [
    "def ExploreHaut(U,p):\n",
    "    n=len(U)\n",
    "    Actifs=[[-1,i] for i in range(n)]\n",
    "    Explores=[[-1,i] for i in range(n)]\n",
    "    Composante=[]\n",
    "    while len(Actifs)>0:\n",
    "        Nouveaux=[]\n",
    "        for a,b in Actifs:            \n",
    "            for y in [[a+1,b],[a-1,b],[a,b+1],[a,b-1]]:\n",
    "                k,l=y\n",
    "                if 0<=k<n and 0<=l<n and y not in Explores:     ## Si [k,l] n'a pas été exploré jusque là.\n",
    "                    Explores.append(y)\n",
    "                    if U[k][l]<p:                               ## Si [k,l] est noir\n",
    "                        Nouveaux.append(y)                      ## On le rajoute à la liste des nouveaux actifs\n",
    "        Composante.append(Nouveaux)\n",
    "        Actifs=Nouveaux\n",
    "    return Composante\n",
    "\n",
    "def Convert(U,C,p):\n",
    "    n=len(U)\n",
    "    D=[[0 for i in range(n)] for i in range(n)]\n",
    "    for i in range(n):\n",
    "        for j in range(n):\n",
    "            if [i,j] in C:\n",
    "                D[i][j]=4\n",
    "            elif U[i][j]<p:\n",
    "                D[i][j]=1\n",
    "    return D"
   ]
  },
  {
   "cell_type": "code",
   "execution_count": 321,
   "metadata": {},
   "outputs": [
    {
     "data": {
      "application/vnd.jupyter.widget-view+json": {
       "model_id": "aabfe336a7094452bf28cf93f83ff217",
       "version_major": 2,
       "version_minor": 0
      },
      "text/plain": [
       "interactive(children=(Play(value=0, description='Press play', max=88), Output()), _dom_classes=('widget-intera…"
      ]
     },
     "metadata": {},
     "output_type": "display_data"
    },
    {
     "data": {
      "text/plain": [
       "<function __main__.Percole(t)>"
      ]
     },
     "execution_count": 321,
     "metadata": {},
     "output_type": "execute_result"
    }
   ],
   "source": [
    "n=50\n",
    "p=0.6\n",
    "\n",
    "V=[[rd.random() for i in range(n)] for j in range(n)]\n",
    "Q=ExploreHaut(V,p)\n",
    "q=len(Q)\n",
    "H,Etapes=[],[]\n",
    "for i in range(q):\n",
    "    H+=Q[i]\n",
    "    Etapes.append(Convert(V,H,p))\n",
    "\n",
    "def Percole(t):\n",
    "    Image(Etapes[t],p)\n",
    "        \n",
    "wid2= widgets.Play(value=0,min=0,max=q-1,step=1,description=\"Press play\",disabled=False)\n",
    "widgets.interact(Percole, t=wid2)"
   ]
  },
  {
   "cell_type": "code",
   "execution_count": 243,
   "metadata": {},
   "outputs": [],
   "source": [
    "def Composante(U,p):\n",
    "    Q=ExploreHaut(U,p)\n",
    "    H=[]\n",
    "    for i in range(len(Q)):\n",
    "        H+=Q[i]\n",
    "    return H\n",
    "\n",
    "def ExploreHaut2(U,CC,p):\n",
    "    n=len(U)\n",
    "    Actifs=CC.copy()\n",
    "    Explores=CC.copy()\n",
    "    Composante=CC.copy()\n",
    "    while len(Actifs)>0:\n",
    "        a,b=Actifs.pop(0)\n",
    "        for y in [[a+1,b],[a-1,b],[a,b+1],[a,b-1]]:\n",
    "            k,l=y\n",
    "            if 0<=k<n and 0<=l<n and y not in Explores:     ## Si [k,l] n'a pas été exploré jusque là.\n",
    "                Explores.append(y)\n",
    "                if U[k][l]<p:                               ## Si [k,l] est noir\n",
    "                    Actifs.append(y)                        ## On le rajoute à la liste des nouveaux actifs\n",
    "                    Composante.append(y)\n",
    "    return Composante"
   ]
  },
  {
   "cell_type": "code",
   "execution_count": 324,
   "metadata": {},
   "outputs": [
    {
     "data": {
      "application/vnd.jupyter.widget-view+json": {
       "model_id": "2e2a00eb0a3e4a7dadfcefb9ce6a479d",
       "version_major": 2,
       "version_minor": 0
      },
      "text/plain": [
       "interactive(children=(FloatSlider(value=0.5, description='p', max=0.65, min=0.5, step=0.01), Output()), _dom_c…"
      ]
     },
     "metadata": {},
     "output_type": "display_data"
    },
    {
     "data": {
      "text/plain": [
       "<function __main__.Percole2(p)>"
      ]
     },
     "execution_count": 324,
     "metadata": {},
     "output_type": "execute_result"
    }
   ],
   "source": [
    "m=70\n",
    "W=[[rd.random() for i in range(m)] for j in range(m)]\n",
    "\n",
    "p0=0.5\n",
    "C=Composante(W,p0)\n",
    "R=[Convert(W,C,p0)]\n",
    "for i in range(15):\n",
    "    q=p0+(i+1)*0.01\n",
    "    C=ExploreHaut2(W,C,q)\n",
    "    R.append(Convert(W,C,q))\n",
    "\n",
    "def Percole2(p):\n",
    "    i=int(100*(p-p_init))\n",
    "    Image(R[i],p)\n",
    "\n",
    "wid3=widgets.FloatSlider(value=p0,min=p0,max=p0+0.15,step=0.01)\n",
    "widgets.interact(Percole2, p=wid3)"
   ]
  },
  {
   "cell_type": "code",
   "execution_count": null,
   "metadata": {},
   "outputs": [],
   "source": []
  }
 ],
 "metadata": {
  "kernelspec": {
   "display_name": "Python 3",
   "language": "python",
   "name": "python3"
  },
  "language_info": {
   "codemirror_mode": {
    "name": "ipython",
    "version": 3
   },
   "file_extension": ".py",
   "mimetype": "text/x-python",
   "name": "python",
   "nbconvert_exporter": "python",
   "pygments_lexer": "ipython3",
   "version": "3.7.6"
  }
 },
 "nbformat": 4,
 "nbformat_minor": 2
}
